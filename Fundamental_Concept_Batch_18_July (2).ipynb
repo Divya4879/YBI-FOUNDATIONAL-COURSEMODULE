{
  "nbformat": 4,
  "nbformat_minor": 0,
  "metadata": {
    "colab": {
      "name": "Fundamental Concept Batch 18 July",
      "provenance": [],
      "collapsed_sections": []
    },
    "kernelspec": {
      "name": "python3",
      "display_name": "Python 3"
    },
    "language_info": {
      "name": "python"
    }
  },
  "cells": [
    {
      "cell_type": "markdown",
      "source": [
        "# **Day 2 : Pandas Data Structure**"
      ],
      "metadata": {
        "id": "gyDFZx3wm74o"
      }
    },
    {
      "cell_type": "code",
      "execution_count": null,
      "metadata": {
        "id": "-5NT2uCqm4Nq"
      },
      "outputs": [],
      "source": [
        "import pandas as pd"
      ]
    },
    {
      "cell_type": "code",
      "source": [
        "titanic = pd.read_csv('https://github.com/ybifoundation/Dataset/raw/main/Titanic.csv       ')"
      ],
      "metadata": {
        "id": "80FeQFbgxLrC"
      },
      "execution_count": null,
      "outputs": []
    },
    {
      "cell_type": "code",
      "source": [
        "titanic"
      ],
      "metadata": {
        "colab": {
          "base_uri": "https://localhost:8080/",
          "height": 537
        },
        "id": "9FsBVtl1xsRj",
        "outputId": "b0071aa0-1584-406e-96a8-f1306260289e"
      },
      "execution_count": null,
      "outputs": [
        {
          "output_type": "execute_result",
          "data": {
            "text/plain": [
              "      pclass  survived                                             name  \\\n",
              "0          1         1                    Allen, Miss. Elisabeth Walton   \n",
              "1          1         1                   Allison, Master. Hudson Trevor   \n",
              "2          1         0                     Allison, Miss. Helen Loraine   \n",
              "3          1         0             Allison, Mr. Hudson Joshua Creighton   \n",
              "4          1         0  Allison, Mrs. Hudson J C (Bessie Waldo Daniels)   \n",
              "...      ...       ...                                              ...   \n",
              "1304       3         0                             Zabour, Miss. Hileni   \n",
              "1305       3         0                            Zabour, Miss. Thamine   \n",
              "1306       3         0                        Zakarian, Mr. Mapriededer   \n",
              "1307       3         0                              Zakarian, Mr. Ortin   \n",
              "1308       3         0                               Zimmerman, Mr. Leo   \n",
              "\n",
              "         sex    age  sibsp  parch  ticket      fare    cabin embarked boat  \\\n",
              "0     female  29.00      0      0   24160  211.3375       B5        S    2   \n",
              "1       male   0.92      1      2  113781  151.5500  C22 C26        S   11   \n",
              "2     female   2.00      1      2  113781  151.5500  C22 C26        S  NaN   \n",
              "3       male  30.00      1      2  113781  151.5500  C22 C26        S  NaN   \n",
              "4     female  25.00      1      2  113781  151.5500  C22 C26        S  NaN   \n",
              "...      ...    ...    ...    ...     ...       ...      ...      ...  ...   \n",
              "1304  female  14.50      1      0    2665   14.4542      NaN        C  NaN   \n",
              "1305  female    NaN      1      0    2665   14.4542      NaN        C  NaN   \n",
              "1306    male  26.50      0      0    2656    7.2250      NaN        C  NaN   \n",
              "1307    male  27.00      0      0    2670    7.2250      NaN        C  NaN   \n",
              "1308    male  29.00      0      0  315082    7.8750      NaN        S  NaN   \n",
              "\n",
              "       body                        home.dest  \n",
              "0       NaN                     St Louis, MO  \n",
              "1       NaN  Montreal, PQ / Chesterville, ON  \n",
              "2       NaN  Montreal, PQ / Chesterville, ON  \n",
              "3     135.0  Montreal, PQ / Chesterville, ON  \n",
              "4       NaN  Montreal, PQ / Chesterville, ON  \n",
              "...     ...                              ...  \n",
              "1304  328.0                              NaN  \n",
              "1305    NaN                              NaN  \n",
              "1306  304.0                              NaN  \n",
              "1307    NaN                              NaN  \n",
              "1308    NaN                              NaN  \n",
              "\n",
              "[1309 rows x 14 columns]"
            ],
            "text/html": [
              "\n",
              "  <div id=\"df-a61030c4-dbe2-4c24-8324-d41ab3127c0a\">\n",
              "    <div class=\"colab-df-container\">\n",
              "      <div>\n",
              "<style scoped>\n",
              "    .dataframe tbody tr th:only-of-type {\n",
              "        vertical-align: middle;\n",
              "    }\n",
              "\n",
              "    .dataframe tbody tr th {\n",
              "        vertical-align: top;\n",
              "    }\n",
              "\n",
              "    .dataframe thead th {\n",
              "        text-align: right;\n",
              "    }\n",
              "</style>\n",
              "<table border=\"1\" class=\"dataframe\">\n",
              "  <thead>\n",
              "    <tr style=\"text-align: right;\">\n",
              "      <th></th>\n",
              "      <th>pclass</th>\n",
              "      <th>survived</th>\n",
              "      <th>name</th>\n",
              "      <th>sex</th>\n",
              "      <th>age</th>\n",
              "      <th>sibsp</th>\n",
              "      <th>parch</th>\n",
              "      <th>ticket</th>\n",
              "      <th>fare</th>\n",
              "      <th>cabin</th>\n",
              "      <th>embarked</th>\n",
              "      <th>boat</th>\n",
              "      <th>body</th>\n",
              "      <th>home.dest</th>\n",
              "    </tr>\n",
              "  </thead>\n",
              "  <tbody>\n",
              "    <tr>\n",
              "      <th>0</th>\n",
              "      <td>1</td>\n",
              "      <td>1</td>\n",
              "      <td>Allen, Miss. Elisabeth Walton</td>\n",
              "      <td>female</td>\n",
              "      <td>29.00</td>\n",
              "      <td>0</td>\n",
              "      <td>0</td>\n",
              "      <td>24160</td>\n",
              "      <td>211.3375</td>\n",
              "      <td>B5</td>\n",
              "      <td>S</td>\n",
              "      <td>2</td>\n",
              "      <td>NaN</td>\n",
              "      <td>St Louis, MO</td>\n",
              "    </tr>\n",
              "    <tr>\n",
              "      <th>1</th>\n",
              "      <td>1</td>\n",
              "      <td>1</td>\n",
              "      <td>Allison, Master. Hudson Trevor</td>\n",
              "      <td>male</td>\n",
              "      <td>0.92</td>\n",
              "      <td>1</td>\n",
              "      <td>2</td>\n",
              "      <td>113781</td>\n",
              "      <td>151.5500</td>\n",
              "      <td>C22 C26</td>\n",
              "      <td>S</td>\n",
              "      <td>11</td>\n",
              "      <td>NaN</td>\n",
              "      <td>Montreal, PQ / Chesterville, ON</td>\n",
              "    </tr>\n",
              "    <tr>\n",
              "      <th>2</th>\n",
              "      <td>1</td>\n",
              "      <td>0</td>\n",
              "      <td>Allison, Miss. Helen Loraine</td>\n",
              "      <td>female</td>\n",
              "      <td>2.00</td>\n",
              "      <td>1</td>\n",
              "      <td>2</td>\n",
              "      <td>113781</td>\n",
              "      <td>151.5500</td>\n",
              "      <td>C22 C26</td>\n",
              "      <td>S</td>\n",
              "      <td>NaN</td>\n",
              "      <td>NaN</td>\n",
              "      <td>Montreal, PQ / Chesterville, ON</td>\n",
              "    </tr>\n",
              "    <tr>\n",
              "      <th>3</th>\n",
              "      <td>1</td>\n",
              "      <td>0</td>\n",
              "      <td>Allison, Mr. Hudson Joshua Creighton</td>\n",
              "      <td>male</td>\n",
              "      <td>30.00</td>\n",
              "      <td>1</td>\n",
              "      <td>2</td>\n",
              "      <td>113781</td>\n",
              "      <td>151.5500</td>\n",
              "      <td>C22 C26</td>\n",
              "      <td>S</td>\n",
              "      <td>NaN</td>\n",
              "      <td>135.0</td>\n",
              "      <td>Montreal, PQ / Chesterville, ON</td>\n",
              "    </tr>\n",
              "    <tr>\n",
              "      <th>4</th>\n",
              "      <td>1</td>\n",
              "      <td>0</td>\n",
              "      <td>Allison, Mrs. Hudson J C (Bessie Waldo Daniels)</td>\n",
              "      <td>female</td>\n",
              "      <td>25.00</td>\n",
              "      <td>1</td>\n",
              "      <td>2</td>\n",
              "      <td>113781</td>\n",
              "      <td>151.5500</td>\n",
              "      <td>C22 C26</td>\n",
              "      <td>S</td>\n",
              "      <td>NaN</td>\n",
              "      <td>NaN</td>\n",
              "      <td>Montreal, PQ / Chesterville, ON</td>\n",
              "    </tr>\n",
              "    <tr>\n",
              "      <th>...</th>\n",
              "      <td>...</td>\n",
              "      <td>...</td>\n",
              "      <td>...</td>\n",
              "      <td>...</td>\n",
              "      <td>...</td>\n",
              "      <td>...</td>\n",
              "      <td>...</td>\n",
              "      <td>...</td>\n",
              "      <td>...</td>\n",
              "      <td>...</td>\n",
              "      <td>...</td>\n",
              "      <td>...</td>\n",
              "      <td>...</td>\n",
              "      <td>...</td>\n",
              "    </tr>\n",
              "    <tr>\n",
              "      <th>1304</th>\n",
              "      <td>3</td>\n",
              "      <td>0</td>\n",
              "      <td>Zabour, Miss. Hileni</td>\n",
              "      <td>female</td>\n",
              "      <td>14.50</td>\n",
              "      <td>1</td>\n",
              "      <td>0</td>\n",
              "      <td>2665</td>\n",
              "      <td>14.4542</td>\n",
              "      <td>NaN</td>\n",
              "      <td>C</td>\n",
              "      <td>NaN</td>\n",
              "      <td>328.0</td>\n",
              "      <td>NaN</td>\n",
              "    </tr>\n",
              "    <tr>\n",
              "      <th>1305</th>\n",
              "      <td>3</td>\n",
              "      <td>0</td>\n",
              "      <td>Zabour, Miss. Thamine</td>\n",
              "      <td>female</td>\n",
              "      <td>NaN</td>\n",
              "      <td>1</td>\n",
              "      <td>0</td>\n",
              "      <td>2665</td>\n",
              "      <td>14.4542</td>\n",
              "      <td>NaN</td>\n",
              "      <td>C</td>\n",
              "      <td>NaN</td>\n",
              "      <td>NaN</td>\n",
              "      <td>NaN</td>\n",
              "    </tr>\n",
              "    <tr>\n",
              "      <th>1306</th>\n",
              "      <td>3</td>\n",
              "      <td>0</td>\n",
              "      <td>Zakarian, Mr. Mapriededer</td>\n",
              "      <td>male</td>\n",
              "      <td>26.50</td>\n",
              "      <td>0</td>\n",
              "      <td>0</td>\n",
              "      <td>2656</td>\n",
              "      <td>7.2250</td>\n",
              "      <td>NaN</td>\n",
              "      <td>C</td>\n",
              "      <td>NaN</td>\n",
              "      <td>304.0</td>\n",
              "      <td>NaN</td>\n",
              "    </tr>\n",
              "    <tr>\n",
              "      <th>1307</th>\n",
              "      <td>3</td>\n",
              "      <td>0</td>\n",
              "      <td>Zakarian, Mr. Ortin</td>\n",
              "      <td>male</td>\n",
              "      <td>27.00</td>\n",
              "      <td>0</td>\n",
              "      <td>0</td>\n",
              "      <td>2670</td>\n",
              "      <td>7.2250</td>\n",
              "      <td>NaN</td>\n",
              "      <td>C</td>\n",
              "      <td>NaN</td>\n",
              "      <td>NaN</td>\n",
              "      <td>NaN</td>\n",
              "    </tr>\n",
              "    <tr>\n",
              "      <th>1308</th>\n",
              "      <td>3</td>\n",
              "      <td>0</td>\n",
              "      <td>Zimmerman, Mr. Leo</td>\n",
              "      <td>male</td>\n",
              "      <td>29.00</td>\n",
              "      <td>0</td>\n",
              "      <td>0</td>\n",
              "      <td>315082</td>\n",
              "      <td>7.8750</td>\n",
              "      <td>NaN</td>\n",
              "      <td>S</td>\n",
              "      <td>NaN</td>\n",
              "      <td>NaN</td>\n",
              "      <td>NaN</td>\n",
              "    </tr>\n",
              "  </tbody>\n",
              "</table>\n",
              "<p>1309 rows × 14 columns</p>\n",
              "</div>\n",
              "      <button class=\"colab-df-convert\" onclick=\"convertToInteractive('df-a61030c4-dbe2-4c24-8324-d41ab3127c0a')\"\n",
              "              title=\"Convert this dataframe to an interactive table.\"\n",
              "              style=\"display:none;\">\n",
              "        \n",
              "  <svg xmlns=\"http://www.w3.org/2000/svg\" height=\"24px\"viewBox=\"0 0 24 24\"\n",
              "       width=\"24px\">\n",
              "    <path d=\"M0 0h24v24H0V0z\" fill=\"none\"/>\n",
              "    <path d=\"M18.56 5.44l.94 2.06.94-2.06 2.06-.94-2.06-.94-.94-2.06-.94 2.06-2.06.94zm-11 1L8.5 8.5l.94-2.06 2.06-.94-2.06-.94L8.5 2.5l-.94 2.06-2.06.94zm10 10l.94 2.06.94-2.06 2.06-.94-2.06-.94-.94-2.06-.94 2.06-2.06.94z\"/><path d=\"M17.41 7.96l-1.37-1.37c-.4-.4-.92-.59-1.43-.59-.52 0-1.04.2-1.43.59L10.3 9.45l-7.72 7.72c-.78.78-.78 2.05 0 2.83L4 21.41c.39.39.9.59 1.41.59.51 0 1.02-.2 1.41-.59l7.78-7.78 2.81-2.81c.8-.78.8-2.07 0-2.86zM5.41 20L4 18.59l7.72-7.72 1.47 1.35L5.41 20z\"/>\n",
              "  </svg>\n",
              "      </button>\n",
              "      \n",
              "  <style>\n",
              "    .colab-df-container {\n",
              "      display:flex;\n",
              "      flex-wrap:wrap;\n",
              "      gap: 12px;\n",
              "    }\n",
              "\n",
              "    .colab-df-convert {\n",
              "      background-color: #E8F0FE;\n",
              "      border: none;\n",
              "      border-radius: 50%;\n",
              "      cursor: pointer;\n",
              "      display: none;\n",
              "      fill: #1967D2;\n",
              "      height: 32px;\n",
              "      padding: 0 0 0 0;\n",
              "      width: 32px;\n",
              "    }\n",
              "\n",
              "    .colab-df-convert:hover {\n",
              "      background-color: #E2EBFA;\n",
              "      box-shadow: 0px 1px 2px rgba(60, 64, 67, 0.3), 0px 1px 3px 1px rgba(60, 64, 67, 0.15);\n",
              "      fill: #174EA6;\n",
              "    }\n",
              "\n",
              "    [theme=dark] .colab-df-convert {\n",
              "      background-color: #3B4455;\n",
              "      fill: #D2E3FC;\n",
              "    }\n",
              "\n",
              "    [theme=dark] .colab-df-convert:hover {\n",
              "      background-color: #434B5C;\n",
              "      box-shadow: 0px 1px 3px 1px rgba(0, 0, 0, 0.15);\n",
              "      filter: drop-shadow(0px 1px 2px rgba(0, 0, 0, 0.3));\n",
              "      fill: #FFFFFF;\n",
              "    }\n",
              "  </style>\n",
              "\n",
              "      <script>\n",
              "        const buttonEl =\n",
              "          document.querySelector('#df-a61030c4-dbe2-4c24-8324-d41ab3127c0a button.colab-df-convert');\n",
              "        buttonEl.style.display =\n",
              "          google.colab.kernel.accessAllowed ? 'block' : 'none';\n",
              "\n",
              "        async function convertToInteractive(key) {\n",
              "          const element = document.querySelector('#df-a61030c4-dbe2-4c24-8324-d41ab3127c0a');\n",
              "          const dataTable =\n",
              "            await google.colab.kernel.invokeFunction('convertToInteractive',\n",
              "                                                     [key], {});\n",
              "          if (!dataTable) return;\n",
              "\n",
              "          const docLinkHtml = 'Like what you see? Visit the ' +\n",
              "            '<a target=\"_blank\" href=https://colab.research.google.com/notebooks/data_table.ipynb>data table notebook</a>'\n",
              "            + ' to learn more about interactive tables.';\n",
              "          element.innerHTML = '';\n",
              "          dataTable['output_type'] = 'display_data';\n",
              "          await google.colab.output.renderOutput(dataTable, element);\n",
              "          const docLink = document.createElement('div');\n",
              "          docLink.innerHTML = docLinkHtml;\n",
              "          element.appendChild(docLink);\n",
              "        }\n",
              "      </script>\n",
              "    </div>\n",
              "  </div>\n",
              "  "
            ]
          },
          "metadata": {},
          "execution_count": 3
        }
      ]
    },
    {
      "cell_type": "code",
      "source": [
        "titanic.info()"
      ],
      "metadata": {
        "colab": {
          "base_uri": "https://localhost:8080/"
        },
        "id": "b8n8SXxG0_NV",
        "outputId": "ac65e53f-6084-4645-da0a-c77bcb9729c3"
      },
      "execution_count": null,
      "outputs": [
        {
          "output_type": "stream",
          "name": "stdout",
          "text": [
            "<class 'pandas.core.frame.DataFrame'>\n",
            "RangeIndex: 1309 entries, 0 to 1308\n",
            "Data columns (total 14 columns):\n",
            " #   Column     Non-Null Count  Dtype  \n",
            "---  ------     --------------  -----  \n",
            " 0   pclass     1309 non-null   int64  \n",
            " 1   survived   1309 non-null   int64  \n",
            " 2   name       1309 non-null   object \n",
            " 3   sex        1309 non-null   object \n",
            " 4   age        1046 non-null   float64\n",
            " 5   sibsp      1309 non-null   int64  \n",
            " 6   parch      1309 non-null   int64  \n",
            " 7   ticket     1309 non-null   object \n",
            " 8   fare       1308 non-null   float64\n",
            " 9   cabin      295 non-null    object \n",
            " 10  embarked   1307 non-null   object \n",
            " 11  boat       486 non-null    object \n",
            " 12  body       121 non-null    float64\n",
            " 13  home.dest  745 non-null    object \n",
            "dtypes: float64(3), int64(4), object(7)\n",
            "memory usage: 143.3+ KB\n"
          ]
        }
      ]
    },
    {
      "cell_type": "code",
      "source": [
        "titanic.describe()"
      ],
      "metadata": {
        "colab": {
          "base_uri": "https://localhost:8080/",
          "height": 300
        },
        "id": "CZz4MvQr0_QU",
        "outputId": "cf9c27ea-2ef3-4806-a4bd-1beed63419e6"
      },
      "execution_count": null,
      "outputs": [
        {
          "output_type": "execute_result",
          "data": {
            "text/plain": [
              "            pclass     survived          age        sibsp        parch  \\\n",
              "count  1309.000000  1309.000000  1046.000000  1309.000000  1309.000000   \n",
              "mean      2.294882     0.381971    29.881138     0.498854     0.385027   \n",
              "std       0.837836     0.486055    14.413493     1.041658     0.865560   \n",
              "min       1.000000     0.000000     0.170000     0.000000     0.000000   \n",
              "25%       2.000000     0.000000    21.000000     0.000000     0.000000   \n",
              "50%       3.000000     0.000000    28.000000     0.000000     0.000000   \n",
              "75%       3.000000     1.000000    39.000000     1.000000     0.000000   \n",
              "max       3.000000     1.000000    80.000000     8.000000     9.000000   \n",
              "\n",
              "              fare        body  \n",
              "count  1308.000000  121.000000  \n",
              "mean     33.295479  160.809917  \n",
              "std      51.758668   97.696922  \n",
              "min       0.000000    1.000000  \n",
              "25%       7.895800   72.000000  \n",
              "50%      14.454200  155.000000  \n",
              "75%      31.275000  256.000000  \n",
              "max     512.329200  328.000000  "
            ],
            "text/html": [
              "\n",
              "  <div id=\"df-9e1a976f-e9d2-41bd-9f75-152e7a994765\">\n",
              "    <div class=\"colab-df-container\">\n",
              "      <div>\n",
              "<style scoped>\n",
              "    .dataframe tbody tr th:only-of-type {\n",
              "        vertical-align: middle;\n",
              "    }\n",
              "\n",
              "    .dataframe tbody tr th {\n",
              "        vertical-align: top;\n",
              "    }\n",
              "\n",
              "    .dataframe thead th {\n",
              "        text-align: right;\n",
              "    }\n",
              "</style>\n",
              "<table border=\"1\" class=\"dataframe\">\n",
              "  <thead>\n",
              "    <tr style=\"text-align: right;\">\n",
              "      <th></th>\n",
              "      <th>pclass</th>\n",
              "      <th>survived</th>\n",
              "      <th>age</th>\n",
              "      <th>sibsp</th>\n",
              "      <th>parch</th>\n",
              "      <th>fare</th>\n",
              "      <th>body</th>\n",
              "    </tr>\n",
              "  </thead>\n",
              "  <tbody>\n",
              "    <tr>\n",
              "      <th>count</th>\n",
              "      <td>1309.000000</td>\n",
              "      <td>1309.000000</td>\n",
              "      <td>1046.000000</td>\n",
              "      <td>1309.000000</td>\n",
              "      <td>1309.000000</td>\n",
              "      <td>1308.000000</td>\n",
              "      <td>121.000000</td>\n",
              "    </tr>\n",
              "    <tr>\n",
              "      <th>mean</th>\n",
              "      <td>2.294882</td>\n",
              "      <td>0.381971</td>\n",
              "      <td>29.881138</td>\n",
              "      <td>0.498854</td>\n",
              "      <td>0.385027</td>\n",
              "      <td>33.295479</td>\n",
              "      <td>160.809917</td>\n",
              "    </tr>\n",
              "    <tr>\n",
              "      <th>std</th>\n",
              "      <td>0.837836</td>\n",
              "      <td>0.486055</td>\n",
              "      <td>14.413493</td>\n",
              "      <td>1.041658</td>\n",
              "      <td>0.865560</td>\n",
              "      <td>51.758668</td>\n",
              "      <td>97.696922</td>\n",
              "    </tr>\n",
              "    <tr>\n",
              "      <th>min</th>\n",
              "      <td>1.000000</td>\n",
              "      <td>0.000000</td>\n",
              "      <td>0.170000</td>\n",
              "      <td>0.000000</td>\n",
              "      <td>0.000000</td>\n",
              "      <td>0.000000</td>\n",
              "      <td>1.000000</td>\n",
              "    </tr>\n",
              "    <tr>\n",
              "      <th>25%</th>\n",
              "      <td>2.000000</td>\n",
              "      <td>0.000000</td>\n",
              "      <td>21.000000</td>\n",
              "      <td>0.000000</td>\n",
              "      <td>0.000000</td>\n",
              "      <td>7.895800</td>\n",
              "      <td>72.000000</td>\n",
              "    </tr>\n",
              "    <tr>\n",
              "      <th>50%</th>\n",
              "      <td>3.000000</td>\n",
              "      <td>0.000000</td>\n",
              "      <td>28.000000</td>\n",
              "      <td>0.000000</td>\n",
              "      <td>0.000000</td>\n",
              "      <td>14.454200</td>\n",
              "      <td>155.000000</td>\n",
              "    </tr>\n",
              "    <tr>\n",
              "      <th>75%</th>\n",
              "      <td>3.000000</td>\n",
              "      <td>1.000000</td>\n",
              "      <td>39.000000</td>\n",
              "      <td>1.000000</td>\n",
              "      <td>0.000000</td>\n",
              "      <td>31.275000</td>\n",
              "      <td>256.000000</td>\n",
              "    </tr>\n",
              "    <tr>\n",
              "      <th>max</th>\n",
              "      <td>3.000000</td>\n",
              "      <td>1.000000</td>\n",
              "      <td>80.000000</td>\n",
              "      <td>8.000000</td>\n",
              "      <td>9.000000</td>\n",
              "      <td>512.329200</td>\n",
              "      <td>328.000000</td>\n",
              "    </tr>\n",
              "  </tbody>\n",
              "</table>\n",
              "</div>\n",
              "      <button class=\"colab-df-convert\" onclick=\"convertToInteractive('df-9e1a976f-e9d2-41bd-9f75-152e7a994765')\"\n",
              "              title=\"Convert this dataframe to an interactive table.\"\n",
              "              style=\"display:none;\">\n",
              "        \n",
              "  <svg xmlns=\"http://www.w3.org/2000/svg\" height=\"24px\"viewBox=\"0 0 24 24\"\n",
              "       width=\"24px\">\n",
              "    <path d=\"M0 0h24v24H0V0z\" fill=\"none\"/>\n",
              "    <path d=\"M18.56 5.44l.94 2.06.94-2.06 2.06-.94-2.06-.94-.94-2.06-.94 2.06-2.06.94zm-11 1L8.5 8.5l.94-2.06 2.06-.94-2.06-.94L8.5 2.5l-.94 2.06-2.06.94zm10 10l.94 2.06.94-2.06 2.06-.94-2.06-.94-.94-2.06-.94 2.06-2.06.94z\"/><path d=\"M17.41 7.96l-1.37-1.37c-.4-.4-.92-.59-1.43-.59-.52 0-1.04.2-1.43.59L10.3 9.45l-7.72 7.72c-.78.78-.78 2.05 0 2.83L4 21.41c.39.39.9.59 1.41.59.51 0 1.02-.2 1.41-.59l7.78-7.78 2.81-2.81c.8-.78.8-2.07 0-2.86zM5.41 20L4 18.59l7.72-7.72 1.47 1.35L5.41 20z\"/>\n",
              "  </svg>\n",
              "      </button>\n",
              "      \n",
              "  <style>\n",
              "    .colab-df-container {\n",
              "      display:flex;\n",
              "      flex-wrap:wrap;\n",
              "      gap: 12px;\n",
              "    }\n",
              "\n",
              "    .colab-df-convert {\n",
              "      background-color: #E8F0FE;\n",
              "      border: none;\n",
              "      border-radius: 50%;\n",
              "      cursor: pointer;\n",
              "      display: none;\n",
              "      fill: #1967D2;\n",
              "      height: 32px;\n",
              "      padding: 0 0 0 0;\n",
              "      width: 32px;\n",
              "    }\n",
              "\n",
              "    .colab-df-convert:hover {\n",
              "      background-color: #E2EBFA;\n",
              "      box-shadow: 0px 1px 2px rgba(60, 64, 67, 0.3), 0px 1px 3px 1px rgba(60, 64, 67, 0.15);\n",
              "      fill: #174EA6;\n",
              "    }\n",
              "\n",
              "    [theme=dark] .colab-df-convert {\n",
              "      background-color: #3B4455;\n",
              "      fill: #D2E3FC;\n",
              "    }\n",
              "\n",
              "    [theme=dark] .colab-df-convert:hover {\n",
              "      background-color: #434B5C;\n",
              "      box-shadow: 0px 1px 3px 1px rgba(0, 0, 0, 0.15);\n",
              "      filter: drop-shadow(0px 1px 2px rgba(0, 0, 0, 0.3));\n",
              "      fill: #FFFFFF;\n",
              "    }\n",
              "  </style>\n",
              "\n",
              "      <script>\n",
              "        const buttonEl =\n",
              "          document.querySelector('#df-9e1a976f-e9d2-41bd-9f75-152e7a994765 button.colab-df-convert');\n",
              "        buttonEl.style.display =\n",
              "          google.colab.kernel.accessAllowed ? 'block' : 'none';\n",
              "\n",
              "        async function convertToInteractive(key) {\n",
              "          const element = document.querySelector('#df-9e1a976f-e9d2-41bd-9f75-152e7a994765');\n",
              "          const dataTable =\n",
              "            await google.colab.kernel.invokeFunction('convertToInteractive',\n",
              "                                                     [key], {});\n",
              "          if (!dataTable) return;\n",
              "\n",
              "          const docLinkHtml = 'Like what you see? Visit the ' +\n",
              "            '<a target=\"_blank\" href=https://colab.research.google.com/notebooks/data_table.ipynb>data table notebook</a>'\n",
              "            + ' to learn more about interactive tables.';\n",
              "          element.innerHTML = '';\n",
              "          dataTable['output_type'] = 'display_data';\n",
              "          await google.colab.output.renderOutput(dataTable, element);\n",
              "          const docLink = document.createElement('div');\n",
              "          docLink.innerHTML = docLinkHtml;\n",
              "          element.appendChild(docLink);\n",
              "        }\n",
              "      </script>\n",
              "    </div>\n",
              "  </div>\n",
              "  "
            ]
          },
          "metadata": {},
          "execution_count": 5
        }
      ]
    },
    {
      "cell_type": "code",
      "source": [
        ""
      ],
      "metadata": {
        "id": "GUQ6Qdn00_Ts"
      },
      "execution_count": null,
      "outputs": []
    },
    {
      "cell_type": "code",
      "source": [
        "df = pd.read_csv('/content/Titanic.csv')"
      ],
      "metadata": {
        "id": "8gIC2NGQx3Ai",
        "colab": {
          "base_uri": "https://localhost:8080/",
          "height": 312
        },
        "outputId": "8b1c74d7-ee00-4b6d-c7c7-5fc5a1c3cc99"
      },
      "execution_count": null,
      "outputs": [
        {
          "output_type": "error",
          "ename": "FileNotFoundError",
          "evalue": "ignored",
          "traceback": [
            "\u001b[0;31m---------------------------------------------------------------------------\u001b[0m",
            "\u001b[0;31mFileNotFoundError\u001b[0m                         Traceback (most recent call last)",
            "\u001b[0;32m<ipython-input-6-27a53a16f47b>\u001b[0m in \u001b[0;36m<module>\u001b[0;34m()\u001b[0m\n\u001b[0;32m----> 1\u001b[0;31m \u001b[0mdf\u001b[0m \u001b[0;34m=\u001b[0m \u001b[0mpd\u001b[0m\u001b[0;34m.\u001b[0m\u001b[0mread_csv\u001b[0m\u001b[0;34m(\u001b[0m\u001b[0;34m'/content/Titanic.csv'\u001b[0m\u001b[0;34m)\u001b[0m\u001b[0;34m\u001b[0m\u001b[0;34m\u001b[0m\u001b[0m\n\u001b[0m",
            "\u001b[0;32m/usr/local/lib/python3.7/dist-packages/pandas/util/_decorators.py\u001b[0m in \u001b[0;36mwrapper\u001b[0;34m(*args, **kwargs)\u001b[0m\n\u001b[1;32m    309\u001b[0m                     \u001b[0mstacklevel\u001b[0m\u001b[0;34m=\u001b[0m\u001b[0mstacklevel\u001b[0m\u001b[0;34m,\u001b[0m\u001b[0;34m\u001b[0m\u001b[0;34m\u001b[0m\u001b[0m\n\u001b[1;32m    310\u001b[0m                 )\n\u001b[0;32m--> 311\u001b[0;31m             \u001b[0;32mreturn\u001b[0m \u001b[0mfunc\u001b[0m\u001b[0;34m(\u001b[0m\u001b[0;34m*\u001b[0m\u001b[0margs\u001b[0m\u001b[0;34m,\u001b[0m \u001b[0;34m**\u001b[0m\u001b[0mkwargs\u001b[0m\u001b[0;34m)\u001b[0m\u001b[0;34m\u001b[0m\u001b[0;34m\u001b[0m\u001b[0m\n\u001b[0m\u001b[1;32m    312\u001b[0m \u001b[0;34m\u001b[0m\u001b[0m\n\u001b[1;32m    313\u001b[0m         \u001b[0;32mreturn\u001b[0m \u001b[0mwrapper\u001b[0m\u001b[0;34m\u001b[0m\u001b[0;34m\u001b[0m\u001b[0m\n",
            "\u001b[0;32m/usr/local/lib/python3.7/dist-packages/pandas/io/parsers/readers.py\u001b[0m in \u001b[0;36mread_csv\u001b[0;34m(filepath_or_buffer, sep, delimiter, header, names, index_col, usecols, squeeze, prefix, mangle_dupe_cols, dtype, engine, converters, true_values, false_values, skipinitialspace, skiprows, skipfooter, nrows, na_values, keep_default_na, na_filter, verbose, skip_blank_lines, parse_dates, infer_datetime_format, keep_date_col, date_parser, dayfirst, cache_dates, iterator, chunksize, compression, thousands, decimal, lineterminator, quotechar, quoting, doublequote, escapechar, comment, encoding, encoding_errors, dialect, error_bad_lines, warn_bad_lines, on_bad_lines, delim_whitespace, low_memory, memory_map, float_precision, storage_options)\u001b[0m\n\u001b[1;32m    584\u001b[0m     \u001b[0mkwds\u001b[0m\u001b[0;34m.\u001b[0m\u001b[0mupdate\u001b[0m\u001b[0;34m(\u001b[0m\u001b[0mkwds_defaults\u001b[0m\u001b[0;34m)\u001b[0m\u001b[0;34m\u001b[0m\u001b[0;34m\u001b[0m\u001b[0m\n\u001b[1;32m    585\u001b[0m \u001b[0;34m\u001b[0m\u001b[0m\n\u001b[0;32m--> 586\u001b[0;31m     \u001b[0;32mreturn\u001b[0m \u001b[0m_read\u001b[0m\u001b[0;34m(\u001b[0m\u001b[0mfilepath_or_buffer\u001b[0m\u001b[0;34m,\u001b[0m \u001b[0mkwds\u001b[0m\u001b[0;34m)\u001b[0m\u001b[0;34m\u001b[0m\u001b[0;34m\u001b[0m\u001b[0m\n\u001b[0m\u001b[1;32m    587\u001b[0m \u001b[0;34m\u001b[0m\u001b[0m\n\u001b[1;32m    588\u001b[0m \u001b[0;34m\u001b[0m\u001b[0m\n",
            "\u001b[0;32m/usr/local/lib/python3.7/dist-packages/pandas/io/parsers/readers.py\u001b[0m in \u001b[0;36m_read\u001b[0;34m(filepath_or_buffer, kwds)\u001b[0m\n\u001b[1;32m    480\u001b[0m \u001b[0;34m\u001b[0m\u001b[0m\n\u001b[1;32m    481\u001b[0m     \u001b[0;31m# Create the parser.\u001b[0m\u001b[0;34m\u001b[0m\u001b[0;34m\u001b[0m\u001b[0;34m\u001b[0m\u001b[0m\n\u001b[0;32m--> 482\u001b[0;31m     \u001b[0mparser\u001b[0m \u001b[0;34m=\u001b[0m \u001b[0mTextFileReader\u001b[0m\u001b[0;34m(\u001b[0m\u001b[0mfilepath_or_buffer\u001b[0m\u001b[0;34m,\u001b[0m \u001b[0;34m**\u001b[0m\u001b[0mkwds\u001b[0m\u001b[0;34m)\u001b[0m\u001b[0;34m\u001b[0m\u001b[0;34m\u001b[0m\u001b[0m\n\u001b[0m\u001b[1;32m    483\u001b[0m \u001b[0;34m\u001b[0m\u001b[0m\n\u001b[1;32m    484\u001b[0m     \u001b[0;32mif\u001b[0m \u001b[0mchunksize\u001b[0m \u001b[0;32mor\u001b[0m \u001b[0miterator\u001b[0m\u001b[0;34m:\u001b[0m\u001b[0;34m\u001b[0m\u001b[0;34m\u001b[0m\u001b[0m\n",
            "\u001b[0;32m/usr/local/lib/python3.7/dist-packages/pandas/io/parsers/readers.py\u001b[0m in \u001b[0;36m__init__\u001b[0;34m(self, f, engine, **kwds)\u001b[0m\n\u001b[1;32m    809\u001b[0m             \u001b[0mself\u001b[0m\u001b[0;34m.\u001b[0m\u001b[0moptions\u001b[0m\u001b[0;34m[\u001b[0m\u001b[0;34m\"has_index_names\"\u001b[0m\u001b[0;34m]\u001b[0m \u001b[0;34m=\u001b[0m \u001b[0mkwds\u001b[0m\u001b[0;34m[\u001b[0m\u001b[0;34m\"has_index_names\"\u001b[0m\u001b[0;34m]\u001b[0m\u001b[0;34m\u001b[0m\u001b[0;34m\u001b[0m\u001b[0m\n\u001b[1;32m    810\u001b[0m \u001b[0;34m\u001b[0m\u001b[0m\n\u001b[0;32m--> 811\u001b[0;31m         \u001b[0mself\u001b[0m\u001b[0;34m.\u001b[0m\u001b[0m_engine\u001b[0m \u001b[0;34m=\u001b[0m \u001b[0mself\u001b[0m\u001b[0;34m.\u001b[0m\u001b[0m_make_engine\u001b[0m\u001b[0;34m(\u001b[0m\u001b[0mself\u001b[0m\u001b[0;34m.\u001b[0m\u001b[0mengine\u001b[0m\u001b[0;34m)\u001b[0m\u001b[0;34m\u001b[0m\u001b[0;34m\u001b[0m\u001b[0m\n\u001b[0m\u001b[1;32m    812\u001b[0m \u001b[0;34m\u001b[0m\u001b[0m\n\u001b[1;32m    813\u001b[0m     \u001b[0;32mdef\u001b[0m \u001b[0mclose\u001b[0m\u001b[0;34m(\u001b[0m\u001b[0mself\u001b[0m\u001b[0;34m)\u001b[0m\u001b[0;34m:\u001b[0m\u001b[0;34m\u001b[0m\u001b[0;34m\u001b[0m\u001b[0m\n",
            "\u001b[0;32m/usr/local/lib/python3.7/dist-packages/pandas/io/parsers/readers.py\u001b[0m in \u001b[0;36m_make_engine\u001b[0;34m(self, engine)\u001b[0m\n\u001b[1;32m   1038\u001b[0m             )\n\u001b[1;32m   1039\u001b[0m         \u001b[0;31m# error: Too many arguments for \"ParserBase\"\u001b[0m\u001b[0;34m\u001b[0m\u001b[0;34m\u001b[0m\u001b[0;34m\u001b[0m\u001b[0m\n\u001b[0;32m-> 1040\u001b[0;31m         \u001b[0;32mreturn\u001b[0m \u001b[0mmapping\u001b[0m\u001b[0;34m[\u001b[0m\u001b[0mengine\u001b[0m\u001b[0;34m]\u001b[0m\u001b[0;34m(\u001b[0m\u001b[0mself\u001b[0m\u001b[0;34m.\u001b[0m\u001b[0mf\u001b[0m\u001b[0;34m,\u001b[0m \u001b[0;34m**\u001b[0m\u001b[0mself\u001b[0m\u001b[0;34m.\u001b[0m\u001b[0moptions\u001b[0m\u001b[0;34m)\u001b[0m  \u001b[0;31m# type: ignore[call-arg]\u001b[0m\u001b[0;34m\u001b[0m\u001b[0;34m\u001b[0m\u001b[0m\n\u001b[0m\u001b[1;32m   1041\u001b[0m \u001b[0;34m\u001b[0m\u001b[0m\n\u001b[1;32m   1042\u001b[0m     \u001b[0;32mdef\u001b[0m \u001b[0m_failover_to_python\u001b[0m\u001b[0;34m(\u001b[0m\u001b[0mself\u001b[0m\u001b[0;34m)\u001b[0m\u001b[0;34m:\u001b[0m\u001b[0;34m\u001b[0m\u001b[0;34m\u001b[0m\u001b[0m\n",
            "\u001b[0;32m/usr/local/lib/python3.7/dist-packages/pandas/io/parsers/c_parser_wrapper.py\u001b[0m in \u001b[0;36m__init__\u001b[0;34m(self, src, **kwds)\u001b[0m\n\u001b[1;32m     49\u001b[0m \u001b[0;34m\u001b[0m\u001b[0m\n\u001b[1;32m     50\u001b[0m         \u001b[0;31m# open handles\u001b[0m\u001b[0;34m\u001b[0m\u001b[0;34m\u001b[0m\u001b[0;34m\u001b[0m\u001b[0m\n\u001b[0;32m---> 51\u001b[0;31m         \u001b[0mself\u001b[0m\u001b[0;34m.\u001b[0m\u001b[0m_open_handles\u001b[0m\u001b[0;34m(\u001b[0m\u001b[0msrc\u001b[0m\u001b[0;34m,\u001b[0m \u001b[0mkwds\u001b[0m\u001b[0;34m)\u001b[0m\u001b[0;34m\u001b[0m\u001b[0;34m\u001b[0m\u001b[0m\n\u001b[0m\u001b[1;32m     52\u001b[0m         \u001b[0;32massert\u001b[0m \u001b[0mself\u001b[0m\u001b[0;34m.\u001b[0m\u001b[0mhandles\u001b[0m \u001b[0;32mis\u001b[0m \u001b[0;32mnot\u001b[0m \u001b[0;32mNone\u001b[0m\u001b[0;34m\u001b[0m\u001b[0;34m\u001b[0m\u001b[0m\n\u001b[1;32m     53\u001b[0m \u001b[0;34m\u001b[0m\u001b[0m\n",
            "\u001b[0;32m/usr/local/lib/python3.7/dist-packages/pandas/io/parsers/base_parser.py\u001b[0m in \u001b[0;36m_open_handles\u001b[0;34m(self, src, kwds)\u001b[0m\n\u001b[1;32m    227\u001b[0m             \u001b[0mmemory_map\u001b[0m\u001b[0;34m=\u001b[0m\u001b[0mkwds\u001b[0m\u001b[0;34m.\u001b[0m\u001b[0mget\u001b[0m\u001b[0;34m(\u001b[0m\u001b[0;34m\"memory_map\"\u001b[0m\u001b[0;34m,\u001b[0m \u001b[0;32mFalse\u001b[0m\u001b[0;34m)\u001b[0m\u001b[0;34m,\u001b[0m\u001b[0;34m\u001b[0m\u001b[0;34m\u001b[0m\u001b[0m\n\u001b[1;32m    228\u001b[0m             \u001b[0mstorage_options\u001b[0m\u001b[0;34m=\u001b[0m\u001b[0mkwds\u001b[0m\u001b[0;34m.\u001b[0m\u001b[0mget\u001b[0m\u001b[0;34m(\u001b[0m\u001b[0;34m\"storage_options\"\u001b[0m\u001b[0;34m,\u001b[0m \u001b[0;32mNone\u001b[0m\u001b[0;34m)\u001b[0m\u001b[0;34m,\u001b[0m\u001b[0;34m\u001b[0m\u001b[0;34m\u001b[0m\u001b[0m\n\u001b[0;32m--> 229\u001b[0;31m             \u001b[0merrors\u001b[0m\u001b[0;34m=\u001b[0m\u001b[0mkwds\u001b[0m\u001b[0;34m.\u001b[0m\u001b[0mget\u001b[0m\u001b[0;34m(\u001b[0m\u001b[0;34m\"encoding_errors\"\u001b[0m\u001b[0;34m,\u001b[0m \u001b[0;34m\"strict\"\u001b[0m\u001b[0;34m)\u001b[0m\u001b[0;34m,\u001b[0m\u001b[0;34m\u001b[0m\u001b[0;34m\u001b[0m\u001b[0m\n\u001b[0m\u001b[1;32m    230\u001b[0m         )\n\u001b[1;32m    231\u001b[0m \u001b[0;34m\u001b[0m\u001b[0m\n",
            "\u001b[0;32m/usr/local/lib/python3.7/dist-packages/pandas/io/common.py\u001b[0m in \u001b[0;36mget_handle\u001b[0;34m(path_or_buf, mode, encoding, compression, memory_map, is_text, errors, storage_options)\u001b[0m\n\u001b[1;32m    705\u001b[0m                 \u001b[0mencoding\u001b[0m\u001b[0;34m=\u001b[0m\u001b[0mioargs\u001b[0m\u001b[0;34m.\u001b[0m\u001b[0mencoding\u001b[0m\u001b[0;34m,\u001b[0m\u001b[0;34m\u001b[0m\u001b[0;34m\u001b[0m\u001b[0m\n\u001b[1;32m    706\u001b[0m                 \u001b[0merrors\u001b[0m\u001b[0;34m=\u001b[0m\u001b[0merrors\u001b[0m\u001b[0;34m,\u001b[0m\u001b[0;34m\u001b[0m\u001b[0;34m\u001b[0m\u001b[0m\n\u001b[0;32m--> 707\u001b[0;31m                 \u001b[0mnewline\u001b[0m\u001b[0;34m=\u001b[0m\u001b[0;34m\"\"\u001b[0m\u001b[0;34m,\u001b[0m\u001b[0;34m\u001b[0m\u001b[0;34m\u001b[0m\u001b[0m\n\u001b[0m\u001b[1;32m    708\u001b[0m             )\n\u001b[1;32m    709\u001b[0m         \u001b[0;32melse\u001b[0m\u001b[0;34m:\u001b[0m\u001b[0;34m\u001b[0m\u001b[0;34m\u001b[0m\u001b[0m\n",
            "\u001b[0;31mFileNotFoundError\u001b[0m: [Errno 2] No such file or directory: '/content/Titanic.csv'"
          ]
        }
      ]
    },
    {
      "cell_type": "code",
      "source": [
        "df.head()"
      ],
      "metadata": {
        "id": "QEmZwLiyzbgL"
      },
      "execution_count": null,
      "outputs": []
    },
    {
      "cell_type": "code",
      "source": [
        "df.info()"
      ],
      "metadata": {
        "id": "ibCDnbH4zdFa"
      },
      "execution_count": null,
      "outputs": []
    },
    {
      "cell_type": "code",
      "source": [
        "df.describe()"
      ],
      "metadata": {
        "id": "lY894klhz49W"
      },
      "execution_count": null,
      "outputs": []
    },
    {
      "cell_type": "code",
      "source": [
        "df['pclass']"
      ],
      "metadata": {
        "id": "fokM-EjE0obp"
      },
      "execution_count": null,
      "outputs": []
    },
    {
      "cell_type": "code",
      "source": [
        "df['pclass'].shape"
      ],
      "metadata": {
        "id": "Uyu-RJC81wrg"
      },
      "execution_count": null,
      "outputs": []
    },
    {
      "cell_type": "code",
      "source": [
        "df['pclass', 'age']"
      ],
      "metadata": {
        "id": "B4tr8CSD04Dv"
      },
      "execution_count": null,
      "outputs": []
    },
    {
      "cell_type": "code",
      "source": [
        "df[['pclass', 'age']]"
      ],
      "metadata": {
        "id": "sLOFUlYy1WT5"
      },
      "execution_count": null,
      "outputs": []
    },
    {
      "cell_type": "code",
      "source": [
        "df[['pclass', 'age', 'fare']]"
      ],
      "metadata": {
        "id": "O__qkunN1dzP"
      },
      "execution_count": null,
      "outputs": []
    },
    {
      "cell_type": "code",
      "source": [
        "df[['pclass', 'age']].shape"
      ],
      "metadata": {
        "id": "jnxqzpy_1sM2"
      },
      "execution_count": null,
      "outputs": []
    },
    {
      "cell_type": "code",
      "source": [
        "df.head()"
      ],
      "metadata": {
        "id": "wGWC9_Em2CLf"
      },
      "execution_count": null,
      "outputs": []
    },
    {
      "cell_type": "code",
      "source": [
        "sub_df = df.loc[0:100, 'pclass':'age']"
      ],
      "metadata": {
        "id": "FUu3kj4Y2UbY"
      },
      "execution_count": null,
      "outputs": []
    },
    {
      "cell_type": "code",
      "source": [
        "sub_df.info()"
      ],
      "metadata": {
        "id": "qdC6ADTY2a6k"
      },
      "execution_count": null,
      "outputs": []
    },
    {
      "cell_type": "code",
      "source": [
        "df.loc[0:100, ['pclass','age']]"
      ],
      "metadata": {
        "id": "3ol6n5U-20Lq"
      },
      "execution_count": null,
      "outputs": []
    },
    {
      "cell_type": "code",
      "source": [
        "df.loc[[0,100,20], ['ticket','pclass','age']]"
      ],
      "metadata": {
        "id": "YFiejXGF3C67"
      },
      "execution_count": null,
      "outputs": []
    },
    {
      "cell_type": "markdown",
      "source": [
        "# **Visualization**"
      ],
      "metadata": {
        "id": "1EA05GkxN_k6"
      }
    },
    {
      "cell_type": "markdown",
      "source": [
        "![image.png](data:image/png;base64,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)"
      ],
      "metadata": {
        "id": "VnmCD5BBPjKq"
      }
    },
    {
      "cell_type": "code",
      "source": [
        "import matplotlib.pyplot as plt"
      ],
      "metadata": {
        "id": "CeMar_FuQ0Hk"
      },
      "execution_count": null,
      "outputs": []
    },
    {
      "cell_type": "code",
      "source": [
        "import pandas as pd"
      ],
      "metadata": {
        "id": "QC0ySlECP3z6"
      },
      "execution_count": null,
      "outputs": []
    },
    {
      "cell_type": "code",
      "source": [
        "fig, ax = plt.subplots()\n",
        "\n",
        "\n",
        "plt.show()"
      ],
      "metadata": {
        "id": "TSDJkvvHACFO"
      },
      "execution_count": null,
      "outputs": []
    },
    {
      "cell_type": "code",
      "source": [
        "fig, ax = plt.subplots(nrows=2,ncols=2, figsize = (15,10))"
      ],
      "metadata": {
        "id": "UdBCbJSFQE0g"
      },
      "execution_count": null,
      "outputs": []
    },
    {
      "cell_type": "code",
      "source": [
        "fig, ax = plt.subplots(nrows =2, ncols=2, figsize = (10,5))"
      ],
      "metadata": {
        "id": "M9-OESr_QXuU"
      },
      "execution_count": null,
      "outputs": []
    },
    {
      "cell_type": "markdown",
      "source": [
        "1. import matplotlib.pyplot as plt\n",
        "\n",
        "2. fig, ax = plt.subplots()\n",
        "\n",
        "3. \n",
        "- ax.plot(x,y)\n",
        "- ax.bar(x,y)\n",
        "- ax.barh(x,y)\n",
        "- ax.scatter(x,y)\n",
        "- ax.hist(x)\n",
        "- ax.pie(x)\n",
        "\n",
        "4. plt.show()"
      ],
      "metadata": {
        "id": "quBdpNIeRS1v"
      }
    },
    {
      "cell_type": "code",
      "source": [
        "X = [3,4,5,6,7,8,9,10]\n",
        "\n",
        "y = [1,2,3,4,5,6,7,8]"
      ],
      "metadata": {
        "id": "Pmr6NNSNQpem"
      },
      "execution_count": null,
      "outputs": []
    },
    {
      "cell_type": "code",
      "source": [
        "X"
      ],
      "metadata": {
        "id": "jDdMqbaGR9t5"
      },
      "execution_count": null,
      "outputs": []
    },
    {
      "cell_type": "code",
      "source": [
        "y"
      ],
      "metadata": {
        "id": "HsAhN4iZSBVT"
      },
      "execution_count": null,
      "outputs": []
    },
    {
      "cell_type": "markdown",
      "source": [
        "# Line Chart"
      ],
      "metadata": {
        "id": "xxbRz2GVSGNy"
      }
    },
    {
      "cell_type": "code",
      "source": [
        "import matplotlib.pyplot as plt"
      ],
      "metadata": {
        "id": "URW5nyXzSCTs"
      },
      "execution_count": null,
      "outputs": []
    },
    {
      "cell_type": "code",
      "source": [
        "fig, ax = plt.subplots(nrows=2, ncols=2)\n",
        "ax[0,1].hist(X)\n",
        "ax[1,0].plot(X, y, color = 'red')\n",
        "ax[1,1].scatter(X, y)\n",
        "ax[0,0].bar(X, y)\n",
        "plt.show()"
      ],
      "metadata": {
        "id": "b9WVwhvjFRv9"
      },
      "execution_count": null,
      "outputs": []
    },
    {
      "cell_type": "code",
      "source": [
        "fig, ax = plt.subplots()\n",
        "\n",
        "ax.plot(X, y)\n",
        "\n",
        "plt.show()"
      ],
      "metadata": {
        "id": "DP4QtugESOft"
      },
      "execution_count": null,
      "outputs": []
    },
    {
      "cell_type": "code",
      "source": [
        "fig, ax = plt.subplots()\n",
        "\n",
        "ax.bar(X, y)\n",
        "plt.show()"
      ],
      "metadata": {
        "id": "oZK-zDG-SZQv"
      },
      "execution_count": null,
      "outputs": []
    },
    {
      "cell_type": "code",
      "source": [
        "fig, ax = plt.subplots()\n",
        "ax.barh(X,y)\n",
        "\n",
        "plt.show()"
      ],
      "metadata": {
        "id": "CeipeDyMTp1X"
      },
      "execution_count": null,
      "outputs": []
    },
    {
      "cell_type": "code",
      "source": [
        "fig, ax = plt.subplots()\n",
        "\n",
        "ax.scatter(X,y)\n",
        "plt.show()"
      ],
      "metadata": {
        "id": "B-PJltn-T_R9"
      },
      "execution_count": null,
      "outputs": []
    },
    {
      "cell_type": "code",
      "source": [
        "z = [1,1,1,1,2,2,2,3,3,3,3,3,3,3,3,4,4,7,7,7,7]"
      ],
      "metadata": {
        "id": "9vA93AbtUY26"
      },
      "execution_count": null,
      "outputs": []
    },
    {
      "cell_type": "code",
      "source": [
        "fig, ax = plt.subplots()\n",
        "\n",
        "ax.hist(z)\n",
        "\n",
        "plt.show()"
      ],
      "metadata": {
        "id": "06VKem6tU1yo"
      },
      "execution_count": null,
      "outputs": []
    },
    {
      "cell_type": "code",
      "source": [
        "fig, ax = plt.subplots()\n",
        "\n",
        "ax.pie(X)\n",
        "\n",
        "plt.show()"
      ],
      "metadata": {
        "id": "HM9IX_9zU97R"
      },
      "execution_count": null,
      "outputs": []
    },
    {
      "cell_type": "code",
      "source": [
        "fig, ax = plt.subplots()\n",
        "ax.plot(X, y, color='red', linestyle= '--', linewidth = 3, marker = 'o')\n",
        "ax.set_title('mychart')\n",
        "ax.set_xlabel('months')\n",
        "ax.set_ylabel('sales')\n",
        "plt.show()"
      ],
      "metadata": {
        "id": "MbPyZVOGHG5B"
      },
      "execution_count": null,
      "outputs": []
    },
    {
      "cell_type": "code",
      "source": [
        "\n",
        "fig, ax = plt.subplots()\n",
        "\n",
        "ax.plot(X, y, color = 'red', linestyle = '--',marker = 'v', linewidth = 2)\n",
        "\n",
        "ax.set_title(' Population of a City ')\n",
        "ax.set_xlabel(' Years')\n",
        "ax.set_ylabel('Population in thousands')\n",
        "plt.show()"
      ],
      "metadata": {
        "id": "O12s45uKVP2t"
      },
      "execution_count": null,
      "outputs": []
    },
    {
      "cell_type": "code",
      "source": [
        "fig, ax = plt.subplots()\n",
        "\n",
        "ax.plot(df_tab['Height'], df_tab['Weight'], color = 'red', linestyle = '--',marker = 'v', linewidth = 2)\n",
        "\n",
        "ax.set_title(' Population of a City ')\n",
        "ax.set_xlabel(' Height')\n",
        "ax.set_ylabel('Weight')\n",
        "plt.show()"
      ],
      "metadata": {
        "id": "EUrobbxFVr_A"
      },
      "execution_count": null,
      "outputs": []
    },
    {
      "cell_type": "code",
      "source": [
        "fig, ax = plt.subplots()\n",
        "\n",
        "ax.scatter(df_tab['Height'], df_tab['Weight'])\n",
        "\n",
        "ax.set_title(' Population of a City ')\n",
        "ax.set_xlabel(' Height')\n",
        "ax.set_ylabel('Weight')\n",
        "plt.show()"
      ],
      "metadata": {
        "id": "FrsDGsuJXQdx"
      },
      "execution_count": null,
      "outputs": []
    },
    {
      "cell_type": "code",
      "execution_count": null,
      "metadata": {
        "id": "TvvGE5GX8CgK"
      },
      "outputs": [],
      "source": [
        "import pandas as pd"
      ]
    },
    {
      "cell_type": "code",
      "source": [
        "import seaborn as sns"
      ],
      "metadata": {
        "id": "0odMchGe8p_B"
      },
      "execution_count": null,
      "outputs": []
    },
    {
      "cell_type": "code",
      "source": [
        "tip = pd.read_csv('https://github.com/ybifoundation/Dataset/raw/main/Tips.csv')"
      ],
      "metadata": {
        "id": "wzM_9OWl8CgL"
      },
      "execution_count": null,
      "outputs": []
    },
    {
      "cell_type": "code",
      "source": [
        "tip"
      ],
      "metadata": {
        "id": "kRHU4WCx8CgL"
      },
      "execution_count": null,
      "outputs": []
    },
    {
      "cell_type": "code",
      "source": [
        "sns.pairplot(tip)"
      ],
      "metadata": {
        "id": "Fl6_JSnHIajp"
      },
      "execution_count": null,
      "outputs": []
    },
    {
      "cell_type": "code",
      "source": [
        "sns.regplot(x)"
      ],
      "metadata": {
        "id": "5AMS_JOIIanI"
      },
      "execution_count": null,
      "outputs": []
    },
    {
      "cell_type": "code",
      "source": [
        "sns.regplot(x='total_bill', y='tip', data = tip)"
      ],
      "metadata": {
        "id": "zjlpgrat8l9o"
      },
      "execution_count": null,
      "outputs": []
    },
    {
      "cell_type": "markdown",
      "source": [
        "# **Linear Regression**"
      ],
      "metadata": {
        "id": "5KtVLYOKhyLN"
      }
    },
    {
      "cell_type": "code",
      "source": [
        "import pandas as pd\n",
        "import numpy as np\n",
        "import matplotlib.pyplot as plt\n",
        "import seaborn as sns"
      ],
      "metadata": {
        "id": "TTLC3UwN8yEW"
      },
      "execution_count": null,
      "outputs": []
    },
    {
      "cell_type": "code",
      "source": [
        "# Dataset\n",
        "\n",
        "df = pd.read_csv('https://github.com/ybifoundation/Dataset/raw/main/Salary%20Data.csv')"
      ],
      "metadata": {
        "id": "Pe7OPRoCpkL-"
      },
      "execution_count": null,
      "outputs": []
    },
    {
      "cell_type": "code",
      "source": [
        "df.head()"
      ],
      "metadata": {
        "id": "nNM5QHdrpt-X"
      },
      "execution_count": null,
      "outputs": []
    },
    {
      "cell_type": "code",
      "source": [
        "df.info()"
      ],
      "metadata": {
        "id": "Hz4U_H9Vpxsf"
      },
      "execution_count": null,
      "outputs": []
    },
    {
      "cell_type": "code",
      "source": [
        "df.describe()"
      ],
      "metadata": {
        "id": "wQgqdeNFp8Kv"
      },
      "execution_count": null,
      "outputs": []
    },
    {
      "cell_type": "code",
      "source": [
        "sns.pairplot(df)"
      ],
      "metadata": {
        "id": "u2Sh0rDBqFLP"
      },
      "execution_count": null,
      "outputs": []
    },
    {
      "cell_type": "code",
      "source": [
        "df.columns"
      ],
      "metadata": {
        "id": "Cd28XCjzqw0S"
      },
      "execution_count": null,
      "outputs": []
    },
    {
      "cell_type": "code",
      "source": [
        "y = df['Salary']"
      ],
      "metadata": {
        "id": "mLsh1-rlrQl6"
      },
      "execution_count": null,
      "outputs": []
    },
    {
      "cell_type": "code",
      "source": [
        "X = df[['Experience Years']]"
      ],
      "metadata": {
        "id": "4BRVMM7orVFL"
      },
      "execution_count": null,
      "outputs": []
    },
    {
      "cell_type": "code",
      "source": [
        "y.shape"
      ],
      "metadata": {
        "id": "6UO3oMZprVIU"
      },
      "execution_count": null,
      "outputs": []
    },
    {
      "cell_type": "code",
      "source": [
        "X.shape"
      ],
      "metadata": {
        "id": "8qnf94TtrVLk"
      },
      "execution_count": null,
      "outputs": []
    },
    {
      "cell_type": "code",
      "source": [
        "from sklearn.model_selection import train_test_split"
      ],
      "metadata": {
        "id": "RbrVYdY8rVOs"
      },
      "execution_count": null,
      "outputs": []
    },
    {
      "cell_type": "code",
      "source": [
        "X_train, X_test, y_train, y_test = train_test_split(X, y, test_size = 0.3, random_state=2529)"
      ],
      "metadata": {
        "id": "GWVThUKzrVRn"
      },
      "execution_count": null,
      "outputs": []
    },
    {
      "cell_type": "code",
      "source": [
        "X_train.shape, X_test.shape, y_train.shape, y_test.shape"
      ],
      "metadata": {
        "id": "XsBmmLj6sh2x"
      },
      "execution_count": null,
      "outputs": []
    },
    {
      "cell_type": "code",
      "source": [
        "from sklearn.linear_model import LinearRegression"
      ],
      "metadata": {
        "id": "rkRRDjTwsqmO"
      },
      "execution_count": null,
      "outputs": []
    },
    {
      "cell_type": "code",
      "source": [
        "lr = LinearRegression()"
      ],
      "metadata": {
        "id": "HOBpQrOksx3y"
      },
      "execution_count": null,
      "outputs": []
    },
    {
      "cell_type": "code",
      "source": [
        "lr.fit(X_train, y_train)"
      ],
      "metadata": {
        "id": "vwfCE8nBtAur"
      },
      "execution_count": null,
      "outputs": []
    },
    {
      "cell_type": "code",
      "source": [
        "lr.coef_"
      ],
      "metadata": {
        "id": "c_2RSo7btYIw"
      },
      "execution_count": null,
      "outputs": []
    },
    {
      "cell_type": "code",
      "source": [
        "lr.intercept_"
      ],
      "metadata": {
        "id": "QKdM3tjMtYMh"
      },
      "execution_count": null,
      "outputs": []
    },
    {
      "cell_type": "code",
      "source": [
        "X_test"
      ],
      "metadata": {
        "id": "_2RtzN8NtYUr"
      },
      "execution_count": null,
      "outputs": []
    },
    {
      "cell_type": "code",
      "source": [
        "y_pred = lr.predict(X_test)"
      ],
      "metadata": {
        "id": "fSBwzlwItRfD"
      },
      "execution_count": null,
      "outputs": []
    },
    {
      "cell_type": "code",
      "source": [
        "from sklearn.metrics import mean_absolute_percentage_error"
      ],
      "metadata": {
        "id": "0OZ9BQL6tT1H"
      },
      "execution_count": null,
      "outputs": []
    },
    {
      "cell_type": "code",
      "source": [
        "mean_absolute_percentage_error(y_test, y_pred)"
      ],
      "metadata": {
        "id": "imPUek2au3lf"
      },
      "execution_count": null,
      "outputs": []
    },
    {
      "cell_type": "code",
      "source": [
        "from sklearn.linear_model import LogisticRegression"
      ],
      "metadata": {
        "id": "YYM34HB6u6UK"
      },
      "execution_count": null,
      "outputs": []
    },
    {
      "cell_type": "code",
      "source": [
        "logit = LogisticRegression(max_iter=500)"
      ],
      "metadata": {
        "id": "i6ppUca_zRgB"
      },
      "execution_count": null,
      "outputs": []
    },
    {
      "cell_type": "code",
      "source": [
        "logit.fit(X_train, y_train)"
      ],
      "metadata": {
        "id": "GQFWqC3HzRjG"
      },
      "execution_count": null,
      "outputs": []
    },
    {
      "cell_type": "code",
      "source": [
        "logit.predict(X_test)"
      ],
      "metadata": {
        "id": "KvUQm25czRl3"
      },
      "execution_count": null,
      "outputs": []
    },
    {
      "cell_type": "code",
      "source": [
        ""
      ],
      "metadata": {
        "id": "XFWVcCxszRqo"
      },
      "execution_count": null,
      "outputs": []
    },
    {
      "cell_type": "markdown",
      "source": [
        "# **Regression Problem 2**"
      ],
      "metadata": {
        "id": "-9SIEuLWvJoq"
      }
    },
    {
      "cell_type": "code",
      "source": [
        "import pandas as pd\n",
        "import numpy as np\n",
        "import matplotlib.pyplot as plt\n",
        "import seaborn as sns"
      ],
      "metadata": {
        "id": "G61zBAhZvMQE"
      },
      "execution_count": null,
      "outputs": []
    },
    {
      "cell_type": "code",
      "source": [
        "# Dataset\n",
        "\n",
        "df = pd.read_csv('https://github.com/ybifoundation/Dataset/raw/main/Boston.csv')"
      ],
      "metadata": {
        "id": "Zj7lUXDfvMQF"
      },
      "execution_count": null,
      "outputs": []
    },
    {
      "cell_type": "code",
      "source": [
        "df.head()"
      ],
      "metadata": {
        "colab": {
          "base_uri": "https://localhost:8080/",
          "height": 206
        },
        "outputId": "23eaf011-a4d2-420b-b4e4-82369e587cae",
        "id": "FkCazIRxvMQF"
      },
      "execution_count": null,
      "outputs": [
        {
          "output_type": "execute_result",
          "data": {
            "text/plain": [
              "      CRIM    ZN  INDUS  CHAS     NX     RM   AGE     DIS  RAD    TAX  \\\n",
              "0  0.00632  18.0   2.31     0  0.538  6.575  65.2  4.0900    1  296.0   \n",
              "1  0.02731   0.0   7.07     0  0.469  6.421  78.9  4.9671    2  242.0   \n",
              "2  0.02729   0.0   7.07     0  0.469  7.185  61.1  4.9671    2  242.0   \n",
              "3  0.03237   0.0   2.18     0  0.458  6.998  45.8  6.0622    3  222.0   \n",
              "4  0.06905   0.0   2.18     0  0.458  7.147  54.2  6.0622    3  222.0   \n",
              "\n",
              "   PTRATIO       B  LSTAT  MEDV  \n",
              "0     15.3  396.90   4.98  24.0  \n",
              "1     17.8  396.90   9.14  21.6  \n",
              "2     17.8  392.83   4.03  34.7  \n",
              "3     18.7  394.63   2.94  33.4  \n",
              "4     18.7  396.90   5.33  36.2  "
            ],
            "text/html": [
              "\n",
              "  <div id=\"df-2c5d75f6-9648-4c33-b7ae-ee84ae977e52\">\n",
              "    <div class=\"colab-df-container\">\n",
              "      <div>\n",
              "<style scoped>\n",
              "    .dataframe tbody tr th:only-of-type {\n",
              "        vertical-align: middle;\n",
              "    }\n",
              "\n",
              "    .dataframe tbody tr th {\n",
              "        vertical-align: top;\n",
              "    }\n",
              "\n",
              "    .dataframe thead th {\n",
              "        text-align: right;\n",
              "    }\n",
              "</style>\n",
              "<table border=\"1\" class=\"dataframe\">\n",
              "  <thead>\n",
              "    <tr style=\"text-align: right;\">\n",
              "      <th></th>\n",
              "      <th>CRIM</th>\n",
              "      <th>ZN</th>\n",
              "      <th>INDUS</th>\n",
              "      <th>CHAS</th>\n",
              "      <th>NX</th>\n",
              "      <th>RM</th>\n",
              "      <th>AGE</th>\n",
              "      <th>DIS</th>\n",
              "      <th>RAD</th>\n",
              "      <th>TAX</th>\n",
              "      <th>PTRATIO</th>\n",
              "      <th>B</th>\n",
              "      <th>LSTAT</th>\n",
              "      <th>MEDV</th>\n",
              "    </tr>\n",
              "  </thead>\n",
              "  <tbody>\n",
              "    <tr>\n",
              "      <th>0</th>\n",
              "      <td>0.00632</td>\n",
              "      <td>18.0</td>\n",
              "      <td>2.31</td>\n",
              "      <td>0</td>\n",
              "      <td>0.538</td>\n",
              "      <td>6.575</td>\n",
              "      <td>65.2</td>\n",
              "      <td>4.0900</td>\n",
              "      <td>1</td>\n",
              "      <td>296.0</td>\n",
              "      <td>15.3</td>\n",
              "      <td>396.90</td>\n",
              "      <td>4.98</td>\n",
              "      <td>24.0</td>\n",
              "    </tr>\n",
              "    <tr>\n",
              "      <th>1</th>\n",
              "      <td>0.02731</td>\n",
              "      <td>0.0</td>\n",
              "      <td>7.07</td>\n",
              "      <td>0</td>\n",
              "      <td>0.469</td>\n",
              "      <td>6.421</td>\n",
              "      <td>78.9</td>\n",
              "      <td>4.9671</td>\n",
              "      <td>2</td>\n",
              "      <td>242.0</td>\n",
              "      <td>17.8</td>\n",
              "      <td>396.90</td>\n",
              "      <td>9.14</td>\n",
              "      <td>21.6</td>\n",
              "    </tr>\n",
              "    <tr>\n",
              "      <th>2</th>\n",
              "      <td>0.02729</td>\n",
              "      <td>0.0</td>\n",
              "      <td>7.07</td>\n",
              "      <td>0</td>\n",
              "      <td>0.469</td>\n",
              "      <td>7.185</td>\n",
              "      <td>61.1</td>\n",
              "      <td>4.9671</td>\n",
              "      <td>2</td>\n",
              "      <td>242.0</td>\n",
              "      <td>17.8</td>\n",
              "      <td>392.83</td>\n",
              "      <td>4.03</td>\n",
              "      <td>34.7</td>\n",
              "    </tr>\n",
              "    <tr>\n",
              "      <th>3</th>\n",
              "      <td>0.03237</td>\n",
              "      <td>0.0</td>\n",
              "      <td>2.18</td>\n",
              "      <td>0</td>\n",
              "      <td>0.458</td>\n",
              "      <td>6.998</td>\n",
              "      <td>45.8</td>\n",
              "      <td>6.0622</td>\n",
              "      <td>3</td>\n",
              "      <td>222.0</td>\n",
              "      <td>18.7</td>\n",
              "      <td>394.63</td>\n",
              "      <td>2.94</td>\n",
              "      <td>33.4</td>\n",
              "    </tr>\n",
              "    <tr>\n",
              "      <th>4</th>\n",
              "      <td>0.06905</td>\n",
              "      <td>0.0</td>\n",
              "      <td>2.18</td>\n",
              "      <td>0</td>\n",
              "      <td>0.458</td>\n",
              "      <td>7.147</td>\n",
              "      <td>54.2</td>\n",
              "      <td>6.0622</td>\n",
              "      <td>3</td>\n",
              "      <td>222.0</td>\n",
              "      <td>18.7</td>\n",
              "      <td>396.90</td>\n",
              "      <td>5.33</td>\n",
              "      <td>36.2</td>\n",
              "    </tr>\n",
              "  </tbody>\n",
              "</table>\n",
              "</div>\n",
              "      <button class=\"colab-df-convert\" onclick=\"convertToInteractive('df-2c5d75f6-9648-4c33-b7ae-ee84ae977e52')\"\n",
              "              title=\"Convert this dataframe to an interactive table.\"\n",
              "              style=\"display:none;\">\n",
              "        \n",
              "  <svg xmlns=\"http://www.w3.org/2000/svg\" height=\"24px\"viewBox=\"0 0 24 24\"\n",
              "       width=\"24px\">\n",
              "    <path d=\"M0 0h24v24H0V0z\" fill=\"none\"/>\n",
              "    <path d=\"M18.56 5.44l.94 2.06.94-2.06 2.06-.94-2.06-.94-.94-2.06-.94 2.06-2.06.94zm-11 1L8.5 8.5l.94-2.06 2.06-.94-2.06-.94L8.5 2.5l-.94 2.06-2.06.94zm10 10l.94 2.06.94-2.06 2.06-.94-2.06-.94-.94-2.06-.94 2.06-2.06.94z\"/><path d=\"M17.41 7.96l-1.37-1.37c-.4-.4-.92-.59-1.43-.59-.52 0-1.04.2-1.43.59L10.3 9.45l-7.72 7.72c-.78.78-.78 2.05 0 2.83L4 21.41c.39.39.9.59 1.41.59.51 0 1.02-.2 1.41-.59l7.78-7.78 2.81-2.81c.8-.78.8-2.07 0-2.86zM5.41 20L4 18.59l7.72-7.72 1.47 1.35L5.41 20z\"/>\n",
              "  </svg>\n",
              "      </button>\n",
              "      \n",
              "  <style>\n",
              "    .colab-df-container {\n",
              "      display:flex;\n",
              "      flex-wrap:wrap;\n",
              "      gap: 12px;\n",
              "    }\n",
              "\n",
              "    .colab-df-convert {\n",
              "      background-color: #E8F0FE;\n",
              "      border: none;\n",
              "      border-radius: 50%;\n",
              "      cursor: pointer;\n",
              "      display: none;\n",
              "      fill: #1967D2;\n",
              "      height: 32px;\n",
              "      padding: 0 0 0 0;\n",
              "      width: 32px;\n",
              "    }\n",
              "\n",
              "    .colab-df-convert:hover {\n",
              "      background-color: #E2EBFA;\n",
              "      box-shadow: 0px 1px 2px rgba(60, 64, 67, 0.3), 0px 1px 3px 1px rgba(60, 64, 67, 0.15);\n",
              "      fill: #174EA6;\n",
              "    }\n",
              "\n",
              "    [theme=dark] .colab-df-convert {\n",
              "      background-color: #3B4455;\n",
              "      fill: #D2E3FC;\n",
              "    }\n",
              "\n",
              "    [theme=dark] .colab-df-convert:hover {\n",
              "      background-color: #434B5C;\n",
              "      box-shadow: 0px 1px 3px 1px rgba(0, 0, 0, 0.15);\n",
              "      filter: drop-shadow(0px 1px 2px rgba(0, 0, 0, 0.3));\n",
              "      fill: #FFFFFF;\n",
              "    }\n",
              "  </style>\n",
              "\n",
              "      <script>\n",
              "        const buttonEl =\n",
              "          document.querySelector('#df-2c5d75f6-9648-4c33-b7ae-ee84ae977e52 button.colab-df-convert');\n",
              "        buttonEl.style.display =\n",
              "          google.colab.kernel.accessAllowed ? 'block' : 'none';\n",
              "\n",
              "        async function convertToInteractive(key) {\n",
              "          const element = document.querySelector('#df-2c5d75f6-9648-4c33-b7ae-ee84ae977e52');\n",
              "          const dataTable =\n",
              "            await google.colab.kernel.invokeFunction('convertToInteractive',\n",
              "                                                     [key], {});\n",
              "          if (!dataTable) return;\n",
              "\n",
              "          const docLinkHtml = 'Like what you see? Visit the ' +\n",
              "            '<a target=\"_blank\" href=https://colab.research.google.com/notebooks/data_table.ipynb>data table notebook</a>'\n",
              "            + ' to learn more about interactive tables.';\n",
              "          element.innerHTML = '';\n",
              "          dataTable['output_type'] = 'display_data';\n",
              "          await google.colab.output.renderOutput(dataTable, element);\n",
              "          const docLink = document.createElement('div');\n",
              "          docLink.innerHTML = docLinkHtml;\n",
              "          element.appendChild(docLink);\n",
              "        }\n",
              "      </script>\n",
              "    </div>\n",
              "  </div>\n",
              "  "
            ]
          },
          "metadata": {},
          "execution_count": 59
        }
      ]
    },
    {
      "cell_type": "code",
      "source": [
        "df.info()"
      ],
      "metadata": {
        "colab": {
          "base_uri": "https://localhost:8080/"
        },
        "outputId": "8e52e268-b88d-4307-d102-b92aa1785e8d",
        "id": "vFkXHAZ2vMQF"
      },
      "execution_count": null,
      "outputs": [
        {
          "output_type": "stream",
          "name": "stdout",
          "text": [
            "<class 'pandas.core.frame.DataFrame'>\n",
            "RangeIndex: 506 entries, 0 to 505\n",
            "Data columns (total 14 columns):\n",
            " #   Column   Non-Null Count  Dtype  \n",
            "---  ------   --------------  -----  \n",
            " 0   CRIM     506 non-null    float64\n",
            " 1   ZN       506 non-null    float64\n",
            " 2   INDUS    506 non-null    float64\n",
            " 3   CHAS     506 non-null    int64  \n",
            " 4   NX       506 non-null    float64\n",
            " 5   RM       506 non-null    float64\n",
            " 6   AGE      506 non-null    float64\n",
            " 7   DIS      506 non-null    float64\n",
            " 8   RAD      506 non-null    int64  \n",
            " 9   TAX      506 non-null    float64\n",
            " 10  PTRATIO  506 non-null    float64\n",
            " 11  B        506 non-null    float64\n",
            " 12  LSTAT    506 non-null    float64\n",
            " 13  MEDV     506 non-null    float64\n",
            "dtypes: float64(12), int64(2)\n",
            "memory usage: 55.5 KB\n"
          ]
        }
      ]
    },
    {
      "cell_type": "code",
      "source": [
        "df.describe()"
      ],
      "metadata": {
        "colab": {
          "base_uri": "https://localhost:8080/",
          "height": 364
        },
        "outputId": "d96fbdce-61e5-4d66-aee9-7e889dfec6cf",
        "id": "s6Wo39pLvMQF"
      },
      "execution_count": null,
      "outputs": [
        {
          "output_type": "execute_result",
          "data": {
            "text/plain": [
              "             CRIM          ZN       INDUS        CHAS          NX          RM  \\\n",
              "count  506.000000  506.000000  506.000000  506.000000  506.000000  506.000000   \n",
              "mean     3.613524   11.363636   11.136779    0.069170    0.554695    6.284634   \n",
              "std      8.601545   23.322453    6.860353    0.253994    0.115878    0.702617   \n",
              "min      0.006320    0.000000    0.460000    0.000000    0.385000    3.561000   \n",
              "25%      0.082045    0.000000    5.190000    0.000000    0.449000    5.885500   \n",
              "50%      0.256510    0.000000    9.690000    0.000000    0.538000    6.208500   \n",
              "75%      3.677083   12.500000   18.100000    0.000000    0.624000    6.623500   \n",
              "max     88.976200  100.000000   27.740000    1.000000    0.871000    8.780000   \n",
              "\n",
              "              AGE         DIS         RAD         TAX     PTRATIO           B  \\\n",
              "count  506.000000  506.000000  506.000000  506.000000  506.000000  506.000000   \n",
              "mean    68.574901    3.795043    9.549407  408.237154   18.455534  356.674032   \n",
              "std     28.148861    2.105710    8.707259  168.537116    2.164946   91.294864   \n",
              "min      2.900000    1.129600    1.000000  187.000000   12.600000    0.320000   \n",
              "25%     45.025000    2.100175    4.000000  279.000000   17.400000  375.377500   \n",
              "50%     77.500000    3.207450    5.000000  330.000000   19.050000  391.440000   \n",
              "75%     94.075000    5.188425   24.000000  666.000000   20.200000  396.225000   \n",
              "max    100.000000   12.126500   24.000000  711.000000   22.000000  396.900000   \n",
              "\n",
              "            LSTAT        MEDV  \n",
              "count  506.000000  506.000000  \n",
              "mean    12.653063   22.532806  \n",
              "std      7.141062    9.197104  \n",
              "min      1.730000    5.000000  \n",
              "25%      6.950000   17.025000  \n",
              "50%     11.360000   21.200000  \n",
              "75%     16.955000   25.000000  \n",
              "max     37.970000   50.000000  "
            ],
            "text/html": [
              "\n",
              "  <div id=\"df-fd91c338-8bc8-4426-8157-db4490a46522\">\n",
              "    <div class=\"colab-df-container\">\n",
              "      <div>\n",
              "<style scoped>\n",
              "    .dataframe tbody tr th:only-of-type {\n",
              "        vertical-align: middle;\n",
              "    }\n",
              "\n",
              "    .dataframe tbody tr th {\n",
              "        vertical-align: top;\n",
              "    }\n",
              "\n",
              "    .dataframe thead th {\n",
              "        text-align: right;\n",
              "    }\n",
              "</style>\n",
              "<table border=\"1\" class=\"dataframe\">\n",
              "  <thead>\n",
              "    <tr style=\"text-align: right;\">\n",
              "      <th></th>\n",
              "      <th>CRIM</th>\n",
              "      <th>ZN</th>\n",
              "      <th>INDUS</th>\n",
              "      <th>CHAS</th>\n",
              "      <th>NX</th>\n",
              "      <th>RM</th>\n",
              "      <th>AGE</th>\n",
              "      <th>DIS</th>\n",
              "      <th>RAD</th>\n",
              "      <th>TAX</th>\n",
              "      <th>PTRATIO</th>\n",
              "      <th>B</th>\n",
              "      <th>LSTAT</th>\n",
              "      <th>MEDV</th>\n",
              "    </tr>\n",
              "  </thead>\n",
              "  <tbody>\n",
              "    <tr>\n",
              "      <th>count</th>\n",
              "      <td>506.000000</td>\n",
              "      <td>506.000000</td>\n",
              "      <td>506.000000</td>\n",
              "      <td>506.000000</td>\n",
              "      <td>506.000000</td>\n",
              "      <td>506.000000</td>\n",
              "      <td>506.000000</td>\n",
              "      <td>506.000000</td>\n",
              "      <td>506.000000</td>\n",
              "      <td>506.000000</td>\n",
              "      <td>506.000000</td>\n",
              "      <td>506.000000</td>\n",
              "      <td>506.000000</td>\n",
              "      <td>506.000000</td>\n",
              "    </tr>\n",
              "    <tr>\n",
              "      <th>mean</th>\n",
              "      <td>3.613524</td>\n",
              "      <td>11.363636</td>\n",
              "      <td>11.136779</td>\n",
              "      <td>0.069170</td>\n",
              "      <td>0.554695</td>\n",
              "      <td>6.284634</td>\n",
              "      <td>68.574901</td>\n",
              "      <td>3.795043</td>\n",
              "      <td>9.549407</td>\n",
              "      <td>408.237154</td>\n",
              "      <td>18.455534</td>\n",
              "      <td>356.674032</td>\n",
              "      <td>12.653063</td>\n",
              "      <td>22.532806</td>\n",
              "    </tr>\n",
              "    <tr>\n",
              "      <th>std</th>\n",
              "      <td>8.601545</td>\n",
              "      <td>23.322453</td>\n",
              "      <td>6.860353</td>\n",
              "      <td>0.253994</td>\n",
              "      <td>0.115878</td>\n",
              "      <td>0.702617</td>\n",
              "      <td>28.148861</td>\n",
              "      <td>2.105710</td>\n",
              "      <td>8.707259</td>\n",
              "      <td>168.537116</td>\n",
              "      <td>2.164946</td>\n",
              "      <td>91.294864</td>\n",
              "      <td>7.141062</td>\n",
              "      <td>9.197104</td>\n",
              "    </tr>\n",
              "    <tr>\n",
              "      <th>min</th>\n",
              "      <td>0.006320</td>\n",
              "      <td>0.000000</td>\n",
              "      <td>0.460000</td>\n",
              "      <td>0.000000</td>\n",
              "      <td>0.385000</td>\n",
              "      <td>3.561000</td>\n",
              "      <td>2.900000</td>\n",
              "      <td>1.129600</td>\n",
              "      <td>1.000000</td>\n",
              "      <td>187.000000</td>\n",
              "      <td>12.600000</td>\n",
              "      <td>0.320000</td>\n",
              "      <td>1.730000</td>\n",
              "      <td>5.000000</td>\n",
              "    </tr>\n",
              "    <tr>\n",
              "      <th>25%</th>\n",
              "      <td>0.082045</td>\n",
              "      <td>0.000000</td>\n",
              "      <td>5.190000</td>\n",
              "      <td>0.000000</td>\n",
              "      <td>0.449000</td>\n",
              "      <td>5.885500</td>\n",
              "      <td>45.025000</td>\n",
              "      <td>2.100175</td>\n",
              "      <td>4.000000</td>\n",
              "      <td>279.000000</td>\n",
              "      <td>17.400000</td>\n",
              "      <td>375.377500</td>\n",
              "      <td>6.950000</td>\n",
              "      <td>17.025000</td>\n",
              "    </tr>\n",
              "    <tr>\n",
              "      <th>50%</th>\n",
              "      <td>0.256510</td>\n",
              "      <td>0.000000</td>\n",
              "      <td>9.690000</td>\n",
              "      <td>0.000000</td>\n",
              "      <td>0.538000</td>\n",
              "      <td>6.208500</td>\n",
              "      <td>77.500000</td>\n",
              "      <td>3.207450</td>\n",
              "      <td>5.000000</td>\n",
              "      <td>330.000000</td>\n",
              "      <td>19.050000</td>\n",
              "      <td>391.440000</td>\n",
              "      <td>11.360000</td>\n",
              "      <td>21.200000</td>\n",
              "    </tr>\n",
              "    <tr>\n",
              "      <th>75%</th>\n",
              "      <td>3.677083</td>\n",
              "      <td>12.500000</td>\n",
              "      <td>18.100000</td>\n",
              "      <td>0.000000</td>\n",
              "      <td>0.624000</td>\n",
              "      <td>6.623500</td>\n",
              "      <td>94.075000</td>\n",
              "      <td>5.188425</td>\n",
              "      <td>24.000000</td>\n",
              "      <td>666.000000</td>\n",
              "      <td>20.200000</td>\n",
              "      <td>396.225000</td>\n",
              "      <td>16.955000</td>\n",
              "      <td>25.000000</td>\n",
              "    </tr>\n",
              "    <tr>\n",
              "      <th>max</th>\n",
              "      <td>88.976200</td>\n",
              "      <td>100.000000</td>\n",
              "      <td>27.740000</td>\n",
              "      <td>1.000000</td>\n",
              "      <td>0.871000</td>\n",
              "      <td>8.780000</td>\n",
              "      <td>100.000000</td>\n",
              "      <td>12.126500</td>\n",
              "      <td>24.000000</td>\n",
              "      <td>711.000000</td>\n",
              "      <td>22.000000</td>\n",
              "      <td>396.900000</td>\n",
              "      <td>37.970000</td>\n",
              "      <td>50.000000</td>\n",
              "    </tr>\n",
              "  </tbody>\n",
              "</table>\n",
              "</div>\n",
              "      <button class=\"colab-df-convert\" onclick=\"convertToInteractive('df-fd91c338-8bc8-4426-8157-db4490a46522')\"\n",
              "              title=\"Convert this dataframe to an interactive table.\"\n",
              "              style=\"display:none;\">\n",
              "        \n",
              "  <svg xmlns=\"http://www.w3.org/2000/svg\" height=\"24px\"viewBox=\"0 0 24 24\"\n",
              "       width=\"24px\">\n",
              "    <path d=\"M0 0h24v24H0V0z\" fill=\"none\"/>\n",
              "    <path d=\"M18.56 5.44l.94 2.06.94-2.06 2.06-.94-2.06-.94-.94-2.06-.94 2.06-2.06.94zm-11 1L8.5 8.5l.94-2.06 2.06-.94-2.06-.94L8.5 2.5l-.94 2.06-2.06.94zm10 10l.94 2.06.94-2.06 2.06-.94-2.06-.94-.94-2.06-.94 2.06-2.06.94z\"/><path d=\"M17.41 7.96l-1.37-1.37c-.4-.4-.92-.59-1.43-.59-.52 0-1.04.2-1.43.59L10.3 9.45l-7.72 7.72c-.78.78-.78 2.05 0 2.83L4 21.41c.39.39.9.59 1.41.59.51 0 1.02-.2 1.41-.59l7.78-7.78 2.81-2.81c.8-.78.8-2.07 0-2.86zM5.41 20L4 18.59l7.72-7.72 1.47 1.35L5.41 20z\"/>\n",
              "  </svg>\n",
              "      </button>\n",
              "      \n",
              "  <style>\n",
              "    .colab-df-container {\n",
              "      display:flex;\n",
              "      flex-wrap:wrap;\n",
              "      gap: 12px;\n",
              "    }\n",
              "\n",
              "    .colab-df-convert {\n",
              "      background-color: #E8F0FE;\n",
              "      border: none;\n",
              "      border-radius: 50%;\n",
              "      cursor: pointer;\n",
              "      display: none;\n",
              "      fill: #1967D2;\n",
              "      height: 32px;\n",
              "      padding: 0 0 0 0;\n",
              "      width: 32px;\n",
              "    }\n",
              "\n",
              "    .colab-df-convert:hover {\n",
              "      background-color: #E2EBFA;\n",
              "      box-shadow: 0px 1px 2px rgba(60, 64, 67, 0.3), 0px 1px 3px 1px rgba(60, 64, 67, 0.15);\n",
              "      fill: #174EA6;\n",
              "    }\n",
              "\n",
              "    [theme=dark] .colab-df-convert {\n",
              "      background-color: #3B4455;\n",
              "      fill: #D2E3FC;\n",
              "    }\n",
              "\n",
              "    [theme=dark] .colab-df-convert:hover {\n",
              "      background-color: #434B5C;\n",
              "      box-shadow: 0px 1px 3px 1px rgba(0, 0, 0, 0.15);\n",
              "      filter: drop-shadow(0px 1px 2px rgba(0, 0, 0, 0.3));\n",
              "      fill: #FFFFFF;\n",
              "    }\n",
              "  </style>\n",
              "\n",
              "      <script>\n",
              "        const buttonEl =\n",
              "          document.querySelector('#df-fd91c338-8bc8-4426-8157-db4490a46522 button.colab-df-convert');\n",
              "        buttonEl.style.display =\n",
              "          google.colab.kernel.accessAllowed ? 'block' : 'none';\n",
              "\n",
              "        async function convertToInteractive(key) {\n",
              "          const element = document.querySelector('#df-fd91c338-8bc8-4426-8157-db4490a46522');\n",
              "          const dataTable =\n",
              "            await google.colab.kernel.invokeFunction('convertToInteractive',\n",
              "                                                     [key], {});\n",
              "          if (!dataTable) return;\n",
              "\n",
              "          const docLinkHtml = 'Like what you see? Visit the ' +\n",
              "            '<a target=\"_blank\" href=https://colab.research.google.com/notebooks/data_table.ipynb>data table notebook</a>'\n",
              "            + ' to learn more about interactive tables.';\n",
              "          element.innerHTML = '';\n",
              "          dataTable['output_type'] = 'display_data';\n",
              "          await google.colab.output.renderOutput(dataTable, element);\n",
              "          const docLink = document.createElement('div');\n",
              "          docLink.innerHTML = docLinkHtml;\n",
              "          element.appendChild(docLink);\n",
              "        }\n",
              "      </script>\n",
              "    </div>\n",
              "  </div>\n",
              "  "
            ]
          },
          "metadata": {},
          "execution_count": 61
        }
      ]
    },
    {
      "cell_type": "code",
      "source": [
        "#sns.pairplot(df)"
      ],
      "metadata": {
        "id": "d2x80WasvMQG"
      },
      "execution_count": null,
      "outputs": []
    },
    {
      "cell_type": "code",
      "source": [
        "df.corr"
      ],
      "metadata": {
        "colab": {
          "base_uri": "https://localhost:8080/"
        },
        "id": "xlvh0TFBu_gD",
        "outputId": "3fba078a-6a3b-428e-9021-27c223b39f4a"
      },
      "execution_count": null,
      "outputs": [
        {
          "output_type": "execute_result",
          "data": {
            "text/plain": [
              "<bound method DataFrame.corr of         CRIM    ZN  INDUS  CHAS     NX     RM   AGE     DIS  RAD    TAX  \\\n",
              "0    0.00632  18.0   2.31     0  0.538  6.575  65.2  4.0900    1  296.0   \n",
              "1    0.02731   0.0   7.07     0  0.469  6.421  78.9  4.9671    2  242.0   \n",
              "2    0.02729   0.0   7.07     0  0.469  7.185  61.1  4.9671    2  242.0   \n",
              "3    0.03237   0.0   2.18     0  0.458  6.998  45.8  6.0622    3  222.0   \n",
              "4    0.06905   0.0   2.18     0  0.458  7.147  54.2  6.0622    3  222.0   \n",
              "..       ...   ...    ...   ...    ...    ...   ...     ...  ...    ...   \n",
              "501  0.06263   0.0  11.93     0  0.573  6.593  69.1  2.4786    1  273.0   \n",
              "502  0.04527   0.0  11.93     0  0.573  6.120  76.7  2.2875    1  273.0   \n",
              "503  0.06076   0.0  11.93     0  0.573  6.976  91.0  2.1675    1  273.0   \n",
              "504  0.10959   0.0  11.93     0  0.573  6.794  89.3  2.3889    1  273.0   \n",
              "505  0.04741   0.0  11.93     0  0.573  6.030  80.8  2.5050    1  273.0   \n",
              "\n",
              "     PTRATIO       B  LSTAT  MEDV  \n",
              "0       15.3  396.90   4.98  24.0  \n",
              "1       17.8  396.90   9.14  21.6  \n",
              "2       17.8  392.83   4.03  34.7  \n",
              "3       18.7  394.63   2.94  33.4  \n",
              "4       18.7  396.90   5.33  36.2  \n",
              "..       ...     ...    ...   ...  \n",
              "501     21.0  391.99   9.67  22.4  \n",
              "502     21.0  396.90   9.08  20.6  \n",
              "503     21.0  396.90   5.64  23.9  \n",
              "504     21.0  393.45   6.48  22.0  \n",
              "505     21.0  396.90   7.88  11.9  \n",
              "\n",
              "[506 rows x 14 columns]>"
            ]
          },
          "metadata": {},
          "execution_count": 63
        }
      ]
    },
    {
      "cell_type": "code",
      "source": [
        "df.columns"
      ],
      "metadata": {
        "colab": {
          "base_uri": "https://localhost:8080/"
        },
        "outputId": "1dbe895d-7510-42be-c707-9bc9db66e10c",
        "id": "i1XWxo0TvMQG"
      },
      "execution_count": null,
      "outputs": [
        {
          "output_type": "execute_result",
          "data": {
            "text/plain": [
              "Index(['CRIM', 'ZN', 'INDUS', 'CHAS', 'NX', 'RM', 'AGE', 'DIS', 'RAD', 'TAX',\n",
              "       'PTRATIO', 'B', 'LSTAT', 'MEDV'],\n",
              "      dtype='object')"
            ]
          },
          "metadata": {},
          "execution_count": 64
        }
      ]
    },
    {
      "cell_type": "code",
      "source": [
        "y = df['MEDV']"
      ],
      "metadata": {
        "id": "de5mPVhAvMQG"
      },
      "execution_count": null,
      "outputs": []
    },
    {
      "cell_type": "code",
      "source": [
        "X = df[['CRIM', 'ZN', 'INDUS', 'CHAS', 'NX', 'RM', 'AGE', 'DIS', 'RAD', 'TAX',\n",
        "       'PTRATIO', 'B', 'LSTAT']]"
      ],
      "metadata": {
        "id": "tBXph8qJvMQG"
      },
      "execution_count": null,
      "outputs": []
    },
    {
      "cell_type": "code",
      "source": [
        "y.shape"
      ],
      "metadata": {
        "colab": {
          "base_uri": "https://localhost:8080/"
        },
        "outputId": "3b014c38-cb48-4432-cc27-1176c493b467",
        "id": "bx-sYzUNvMQG"
      },
      "execution_count": null,
      "outputs": [
        {
          "output_type": "execute_result",
          "data": {
            "text/plain": [
              "(506,)"
            ]
          },
          "metadata": {},
          "execution_count": 67
        }
      ]
    },
    {
      "cell_type": "code",
      "source": [
        "X.shape"
      ],
      "metadata": {
        "colab": {
          "base_uri": "https://localhost:8080/"
        },
        "outputId": "5b4ce08d-4b70-41e8-e3a6-870f71271ec8",
        "id": "WXj_JwTOvMQG"
      },
      "execution_count": null,
      "outputs": [
        {
          "output_type": "execute_result",
          "data": {
            "text/plain": [
              "(506, 13)"
            ]
          },
          "metadata": {},
          "execution_count": 68
        }
      ]
    },
    {
      "cell_type": "code",
      "source": [
        "from sklearn.model_selection import train_test_split"
      ],
      "metadata": {
        "id": "yJ0jqwSCvMQG"
      },
      "execution_count": null,
      "outputs": []
    },
    {
      "cell_type": "code",
      "source": [
        "X_train, X_test, y_train, y_test = train_test_split(X, y, test_size = 0.3, random_state=2529)"
      ],
      "metadata": {
        "id": "UdEyQw2qvMQH"
      },
      "execution_count": null,
      "outputs": []
    },
    {
      "cell_type": "code",
      "source": [
        "X_train.shape, X_test.shape, y_train.shape, y_test.shape"
      ],
      "metadata": {
        "colab": {
          "base_uri": "https://localhost:8080/"
        },
        "outputId": "6876d521-7355-4692-ae44-3dc26cbd2d52",
        "id": "Q_zKR8GdvMQH"
      },
      "execution_count": null,
      "outputs": [
        {
          "output_type": "execute_result",
          "data": {
            "text/plain": [
              "((354, 13), (152, 13), (354,), (152,))"
            ]
          },
          "metadata": {},
          "execution_count": 71
        }
      ]
    },
    {
      "cell_type": "code",
      "source": [
        "#from sklearn.linear_model import LinearRegression"
      ],
      "metadata": {
        "id": "1HCFPkNevMQH"
      },
      "execution_count": null,
      "outputs": []
    },
    {
      "cell_type": "code",
      "source": [
        "from sklearn.ensemble import RandomForestRegressor"
      ],
      "metadata": {
        "id": "7IdbSSX8BJf0"
      },
      "execution_count": null,
      "outputs": []
    },
    {
      "cell_type": "code",
      "source": [
        "rfr = RandomForestRegressor()"
      ],
      "metadata": {
        "id": "RwHqHj-YBQU5"
      },
      "execution_count": null,
      "outputs": []
    },
    {
      "cell_type": "code",
      "source": [
        "#lr = LinearRegression()"
      ],
      "metadata": {
        "id": "Mkfn9Fq6vMQH"
      },
      "execution_count": null,
      "outputs": []
    },
    {
      "cell_type": "code",
      "source": [
        "#lr.fit(X_train, y_train)"
      ],
      "metadata": {
        "colab": {
          "base_uri": "https://localhost:8080/"
        },
        "outputId": "1eea5940-69f5-4831-b88b-b79abe4a8426",
        "id": "ywvg6L51vMQH"
      },
      "execution_count": null,
      "outputs": [
        {
          "output_type": "execute_result",
          "data": {
            "text/plain": [
              "LinearRegression()"
            ]
          },
          "metadata": {},
          "execution_count": 74
        }
      ]
    },
    {
      "cell_type": "code",
      "source": [
        "rfr.fit(X_train, y_train)"
      ],
      "metadata": {
        "colab": {
          "base_uri": "https://localhost:8080/"
        },
        "id": "1yjixDJ4BfaA",
        "outputId": "a9490e84-bb12-45b6-a0fe-84957d9f0f6d"
      },
      "execution_count": null,
      "outputs": [
        {
          "output_type": "execute_result",
          "data": {
            "text/plain": [
              "RandomForestRegressor()"
            ]
          },
          "metadata": {},
          "execution_count": 83
        }
      ]
    },
    {
      "cell_type": "code",
      "source": [
        "#lr.coef_"
      ],
      "metadata": {
        "colab": {
          "base_uri": "https://localhost:8080/"
        },
        "outputId": "d4db60d6-b5e2-4932-c0ab-9e7fb4cf9901",
        "id": "Sy1ngxTqvMQH"
      },
      "execution_count": null,
      "outputs": [
        {
          "output_type": "execute_result",
          "data": {
            "text/plain": [
              "array([-1.29412069e-01,  3.65184937e-02,  1.54418944e-02,  2.35486887e+00,\n",
              "       -2.04171489e+01,  4.41356565e+00,  4.61075512e-03, -1.58626723e+00,\n",
              "        2.51478665e-01, -9.59591213e-03, -9.64169204e-01,  1.00972679e-02,\n",
              "       -5.43198745e-01])"
            ]
          },
          "metadata": {},
          "execution_count": 75
        }
      ]
    },
    {
      "cell_type": "code",
      "source": [
        "#lr.intercept_"
      ],
      "metadata": {
        "colab": {
          "base_uri": "https://localhost:8080/"
        },
        "outputId": "9b7abcb0-791a-403f-8f67-c223e34c0013",
        "id": "NmvAFRM0vMQH"
      },
      "execution_count": null,
      "outputs": [
        {
          "output_type": "execute_result",
          "data": {
            "text/plain": [
              "34.21916368863014"
            ]
          },
          "metadata": {},
          "execution_count": 76
        }
      ]
    },
    {
      "cell_type": "code",
      "source": [
        "#y_pred = lr.predict(X_test)"
      ],
      "metadata": {
        "id": "hM7wPTi3vMQI"
      },
      "execution_count": null,
      "outputs": []
    },
    {
      "cell_type": "code",
      "source": [
        "y_pred = rfr.predict(X_test)"
      ],
      "metadata": {
        "id": "43KEwsrpBktd"
      },
      "execution_count": null,
      "outputs": []
    },
    {
      "cell_type": "code",
      "source": [
        "y_pred"
      ],
      "metadata": {
        "id": "9E6RIdo9wm_D",
        "colab": {
          "base_uri": "https://localhost:8080/"
        },
        "outputId": "f560e3b3-d20c-4e7c-df05-8da9105d22d6"
      },
      "execution_count": null,
      "outputs": [
        {
          "output_type": "execute_result",
          "data": {
            "text/plain": [
              "array([29.384, 19.585, 19.397, 47.77 , 19.043, 22.01 , 19.858, 14.846,\n",
              "       22.632, 19.876, 20.139, 27.322, 23.104, 13.133, 10.594, 23.212,\n",
              "       21.05 , 22.547, 14.432, 43.312, 22.06 , 21.993, 14.565, 19.509,\n",
              "       24.501, 20.228, 19.719, 19.433, 24.324, 19.988, 17.968, 18.301,\n",
              "       20.253, 21.448, 47.362, 23.658, 48.671, 22.607, 33.593, 15.483,\n",
              "       14.413, 20.833, 10.071, 13.53 , 21.275, 39.348, 17.982, 14.229,\n",
              "       18.815, 19.822, 29.417, 32.85 , 17.382, 20.71 , 24.743, 18.111,\n",
              "       47.797, 19.785, 20.608, 27.528, 33.691, 16.084, 20.839, 30.438,\n",
              "       24.768, 28.513, 14.121, 34.058, 20.008, 31.546,  8.97 , 21.411,\n",
              "       35.107, 20.201, 22.29 , 22.989, 30.955, 24.26 , 12.731, 14.903,\n",
              "       17.645, 22.135, 20.923, 20.343, 29.892, 20.479,  9.001, 20.285,\n",
              "        7.911, 15.334, 13.541, 23.876, 13.442,  9.296, 16.959, 15.079,\n",
              "       22.719, 34.049, 27.319, 32.818, 22.244, 10.999, 19.537, 19.982,\n",
              "       33.172, 22.083, 17.99 , 18.801, 21.483, 19.456, 28.539, 17.426,\n",
              "       22.385, 20.015, 19.78 , 30.312, 24.698, 24.008, 18.479, 23.288,\n",
              "       14.429,  7.054, 23.547, 46.226, 20.981, 22.464, 20.384, 22.274,\n",
              "       32.213, 32.476, 21.998, 24.651, 26.075, 14.618, 16.332, 21.117,\n",
              "       14.299, 21.878, 19.787, 22.488, 24.533, 19.316, 18.503, 30.721,\n",
              "       19.215, 24.726, 21.342, 19.204, 28.07 , 19.943, 23.295, 24.443])"
            ]
          },
          "metadata": {},
          "execution_count": 85
        }
      ]
    },
    {
      "cell_type": "code",
      "source": [
        "from sklearn.metrics import mean_absolute_percentage_error"
      ],
      "metadata": {
        "id": "FI6gUdKEvMQI"
      },
      "execution_count": null,
      "outputs": []
    },
    {
      "cell_type": "code",
      "source": [
        "mean_absolute_percentage_error(y_test, y_pred)"
      ],
      "metadata": {
        "colab": {
          "base_uri": "https://localhost:8080/"
        },
        "outputId": "1a0f820f-1fbd-4455-d3fa-94af632b1428",
        "id": "-oSha-sSvMQJ"
      },
      "execution_count": null,
      "outputs": [
        {
          "output_type": "execute_result",
          "data": {
            "text/plain": [
              "0.10679429563807306"
            ]
          },
          "metadata": {},
          "execution_count": 87
        }
      ]
    },
    {
      "cell_type": "markdown",
      "source": [
        "# **Classification Problem**"
      ],
      "metadata": {
        "id": "TsPNXSIhspp1"
      }
    },
    {
      "cell_type": "markdown",
      "source": [
        "# Logistic Regression"
      ],
      "metadata": {
        "id": "OypSyZc2stup"
      }
    },
    {
      "cell_type": "code",
      "source": [
        "import pandas as pd\n",
        "import numpy as np\n",
        "import matplotlib.pyplot as plt\n",
        "import seaborn as sns"
      ],
      "metadata": {
        "id": "zll8Ru-UwrC4"
      },
      "execution_count": null,
      "outputs": []
    },
    {
      "cell_type": "code",
      "source": [
        "df = pd.read_csv('https://github.com/ybifoundation/Dataset/raw/main/Diabetes.csv')"
      ],
      "metadata": {
        "id": "b8y1sjaT2G0T"
      },
      "execution_count": null,
      "outputs": []
    },
    {
      "cell_type": "code",
      "source": [
        "df.head()"
      ],
      "metadata": {
        "colab": {
          "base_uri": "https://localhost:8080/",
          "height": 206
        },
        "id": "y1MKQeGg2OhV",
        "outputId": "32f62bed-1548-4626-90a0-40c8b0637f1b"
      },
      "execution_count": null,
      "outputs": [
        {
          "output_type": "execute_result",
          "data": {
            "text/plain": [
              "   pregnancies  glucose  diastolic  triceps  insulin   bmi    dpf  age  \\\n",
              "0            6      148         72       35        0  33.6  0.627   50   \n",
              "1            1       85         66       29        0  26.6  0.351   31   \n",
              "2            8      183         64        0        0  23.3  0.672   32   \n",
              "3            1       89         66       23       94  28.1  0.167   21   \n",
              "4            0      137         40       35      168  43.1  2.288   33   \n",
              "\n",
              "   diabetes  \n",
              "0         1  \n",
              "1         0  \n",
              "2         1  \n",
              "3         0  \n",
              "4         1  "
            ],
            "text/html": [
              "\n",
              "  <div id=\"df-b55e9db7-ee4b-4b88-804c-c3a769ccd40a\">\n",
              "    <div class=\"colab-df-container\">\n",
              "      <div>\n",
              "<style scoped>\n",
              "    .dataframe tbody tr th:only-of-type {\n",
              "        vertical-align: middle;\n",
              "    }\n",
              "\n",
              "    .dataframe tbody tr th {\n",
              "        vertical-align: top;\n",
              "    }\n",
              "\n",
              "    .dataframe thead th {\n",
              "        text-align: right;\n",
              "    }\n",
              "</style>\n",
              "<table border=\"1\" class=\"dataframe\">\n",
              "  <thead>\n",
              "    <tr style=\"text-align: right;\">\n",
              "      <th></th>\n",
              "      <th>pregnancies</th>\n",
              "      <th>glucose</th>\n",
              "      <th>diastolic</th>\n",
              "      <th>triceps</th>\n",
              "      <th>insulin</th>\n",
              "      <th>bmi</th>\n",
              "      <th>dpf</th>\n",
              "      <th>age</th>\n",
              "      <th>diabetes</th>\n",
              "    </tr>\n",
              "  </thead>\n",
              "  <tbody>\n",
              "    <tr>\n",
              "      <th>0</th>\n",
              "      <td>6</td>\n",
              "      <td>148</td>\n",
              "      <td>72</td>\n",
              "      <td>35</td>\n",
              "      <td>0</td>\n",
              "      <td>33.6</td>\n",
              "      <td>0.627</td>\n",
              "      <td>50</td>\n",
              "      <td>1</td>\n",
              "    </tr>\n",
              "    <tr>\n",
              "      <th>1</th>\n",
              "      <td>1</td>\n",
              "      <td>85</td>\n",
              "      <td>66</td>\n",
              "      <td>29</td>\n",
              "      <td>0</td>\n",
              "      <td>26.6</td>\n",
              "      <td>0.351</td>\n",
              "      <td>31</td>\n",
              "      <td>0</td>\n",
              "    </tr>\n",
              "    <tr>\n",
              "      <th>2</th>\n",
              "      <td>8</td>\n",
              "      <td>183</td>\n",
              "      <td>64</td>\n",
              "      <td>0</td>\n",
              "      <td>0</td>\n",
              "      <td>23.3</td>\n",
              "      <td>0.672</td>\n",
              "      <td>32</td>\n",
              "      <td>1</td>\n",
              "    </tr>\n",
              "    <tr>\n",
              "      <th>3</th>\n",
              "      <td>1</td>\n",
              "      <td>89</td>\n",
              "      <td>66</td>\n",
              "      <td>23</td>\n",
              "      <td>94</td>\n",
              "      <td>28.1</td>\n",
              "      <td>0.167</td>\n",
              "      <td>21</td>\n",
              "      <td>0</td>\n",
              "    </tr>\n",
              "    <tr>\n",
              "      <th>4</th>\n",
              "      <td>0</td>\n",
              "      <td>137</td>\n",
              "      <td>40</td>\n",
              "      <td>35</td>\n",
              "      <td>168</td>\n",
              "      <td>43.1</td>\n",
              "      <td>2.288</td>\n",
              "      <td>33</td>\n",
              "      <td>1</td>\n",
              "    </tr>\n",
              "  </tbody>\n",
              "</table>\n",
              "</div>\n",
              "      <button class=\"colab-df-convert\" onclick=\"convertToInteractive('df-b55e9db7-ee4b-4b88-804c-c3a769ccd40a')\"\n",
              "              title=\"Convert this dataframe to an interactive table.\"\n",
              "              style=\"display:none;\">\n",
              "        \n",
              "  <svg xmlns=\"http://www.w3.org/2000/svg\" height=\"24px\"viewBox=\"0 0 24 24\"\n",
              "       width=\"24px\">\n",
              "    <path d=\"M0 0h24v24H0V0z\" fill=\"none\"/>\n",
              "    <path d=\"M18.56 5.44l.94 2.06.94-2.06 2.06-.94-2.06-.94-.94-2.06-.94 2.06-2.06.94zm-11 1L8.5 8.5l.94-2.06 2.06-.94-2.06-.94L8.5 2.5l-.94 2.06-2.06.94zm10 10l.94 2.06.94-2.06 2.06-.94-2.06-.94-.94-2.06-.94 2.06-2.06.94z\"/><path d=\"M17.41 7.96l-1.37-1.37c-.4-.4-.92-.59-1.43-.59-.52 0-1.04.2-1.43.59L10.3 9.45l-7.72 7.72c-.78.78-.78 2.05 0 2.83L4 21.41c.39.39.9.59 1.41.59.51 0 1.02-.2 1.41-.59l7.78-7.78 2.81-2.81c.8-.78.8-2.07 0-2.86zM5.41 20L4 18.59l7.72-7.72 1.47 1.35L5.41 20z\"/>\n",
              "  </svg>\n",
              "      </button>\n",
              "      \n",
              "  <style>\n",
              "    .colab-df-container {\n",
              "      display:flex;\n",
              "      flex-wrap:wrap;\n",
              "      gap: 12px;\n",
              "    }\n",
              "\n",
              "    .colab-df-convert {\n",
              "      background-color: #E8F0FE;\n",
              "      border: none;\n",
              "      border-radius: 50%;\n",
              "      cursor: pointer;\n",
              "      display: none;\n",
              "      fill: #1967D2;\n",
              "      height: 32px;\n",
              "      padding: 0 0 0 0;\n",
              "      width: 32px;\n",
              "    }\n",
              "\n",
              "    .colab-df-convert:hover {\n",
              "      background-color: #E2EBFA;\n",
              "      box-shadow: 0px 1px 2px rgba(60, 64, 67, 0.3), 0px 1px 3px 1px rgba(60, 64, 67, 0.15);\n",
              "      fill: #174EA6;\n",
              "    }\n",
              "\n",
              "    [theme=dark] .colab-df-convert {\n",
              "      background-color: #3B4455;\n",
              "      fill: #D2E3FC;\n",
              "    }\n",
              "\n",
              "    [theme=dark] .colab-df-convert:hover {\n",
              "      background-color: #434B5C;\n",
              "      box-shadow: 0px 1px 3px 1px rgba(0, 0, 0, 0.15);\n",
              "      filter: drop-shadow(0px 1px 2px rgba(0, 0, 0, 0.3));\n",
              "      fill: #FFFFFF;\n",
              "    }\n",
              "  </style>\n",
              "\n",
              "      <script>\n",
              "        const buttonEl =\n",
              "          document.querySelector('#df-b55e9db7-ee4b-4b88-804c-c3a769ccd40a button.colab-df-convert');\n",
              "        buttonEl.style.display =\n",
              "          google.colab.kernel.accessAllowed ? 'block' : 'none';\n",
              "\n",
              "        async function convertToInteractive(key) {\n",
              "          const element = document.querySelector('#df-b55e9db7-ee4b-4b88-804c-c3a769ccd40a');\n",
              "          const dataTable =\n",
              "            await google.colab.kernel.invokeFunction('convertToInteractive',\n",
              "                                                     [key], {});\n",
              "          if (!dataTable) return;\n",
              "\n",
              "          const docLinkHtml = 'Like what you see? Visit the ' +\n",
              "            '<a target=\"_blank\" href=https://colab.research.google.com/notebooks/data_table.ipynb>data table notebook</a>'\n",
              "            + ' to learn more about interactive tables.';\n",
              "          element.innerHTML = '';\n",
              "          dataTable['output_type'] = 'display_data';\n",
              "          await google.colab.output.renderOutput(dataTable, element);\n",
              "          const docLink = document.createElement('div');\n",
              "          docLink.innerHTML = docLinkHtml;\n",
              "          element.appendChild(docLink);\n",
              "        }\n",
              "      </script>\n",
              "    </div>\n",
              "  </div>\n",
              "  "
            ]
          },
          "metadata": {},
          "execution_count": 9
        }
      ]
    },
    {
      "cell_type": "code",
      "source": [
        "df.info()"
      ],
      "metadata": {
        "colab": {
          "base_uri": "https://localhost:8080/"
        },
        "id": "wjPaCKZF2PYM",
        "outputId": "2976a6d6-d2aa-4950-a7d9-8f02b44e4daf"
      },
      "execution_count": null,
      "outputs": [
        {
          "output_type": "stream",
          "name": "stdout",
          "text": [
            "<class 'pandas.core.frame.DataFrame'>\n",
            "RangeIndex: 768 entries, 0 to 767\n",
            "Data columns (total 9 columns):\n",
            " #   Column       Non-Null Count  Dtype  \n",
            "---  ------       --------------  -----  \n",
            " 0   pregnancies  768 non-null    int64  \n",
            " 1   glucose      768 non-null    int64  \n",
            " 2   diastolic    768 non-null    int64  \n",
            " 3   triceps      768 non-null    int64  \n",
            " 4   insulin      768 non-null    int64  \n",
            " 5   bmi          768 non-null    float64\n",
            " 6   dpf          768 non-null    float64\n",
            " 7   age          768 non-null    int64  \n",
            " 8   diabetes     768 non-null    int64  \n",
            "dtypes: float64(2), int64(7)\n",
            "memory usage: 54.1 KB\n"
          ]
        }
      ]
    },
    {
      "cell_type": "code",
      "source": [
        "df.describe()"
      ],
      "metadata": {
        "colab": {
          "base_uri": "https://localhost:8080/",
          "height": 300
        },
        "id": "yudJhzfU2Zvf",
        "outputId": "48e8ebe2-9984-4aa1-cac2-73a299bc69ee"
      },
      "execution_count": null,
      "outputs": [
        {
          "output_type": "execute_result",
          "data": {
            "text/plain": [
              "       pregnancies     glucose   diastolic     triceps     insulin  \\\n",
              "count   768.000000  768.000000  768.000000  768.000000  768.000000   \n",
              "mean      3.845052  120.894531   69.105469   20.536458   79.799479   \n",
              "std       3.369578   31.972618   19.355807   15.952218  115.244002   \n",
              "min       0.000000    0.000000    0.000000    0.000000    0.000000   \n",
              "25%       1.000000   99.000000   62.000000    0.000000    0.000000   \n",
              "50%       3.000000  117.000000   72.000000   23.000000   30.500000   \n",
              "75%       6.000000  140.250000   80.000000   32.000000  127.250000   \n",
              "max      17.000000  199.000000  122.000000   99.000000  846.000000   \n",
              "\n",
              "              bmi         dpf         age    diabetes  \n",
              "count  768.000000  768.000000  768.000000  768.000000  \n",
              "mean    31.992578    0.471876   33.240885    0.348958  \n",
              "std      7.884160    0.331329   11.760232    0.476951  \n",
              "min      0.000000    0.078000   21.000000    0.000000  \n",
              "25%     27.300000    0.243750   24.000000    0.000000  \n",
              "50%     32.000000    0.372500   29.000000    0.000000  \n",
              "75%     36.600000    0.626250   41.000000    1.000000  \n",
              "max     67.100000    2.420000   81.000000    1.000000  "
            ],
            "text/html": [
              "\n",
              "  <div id=\"df-fa1a66cf-bf3f-4110-b571-bf38074ebd0e\">\n",
              "    <div class=\"colab-df-container\">\n",
              "      <div>\n",
              "<style scoped>\n",
              "    .dataframe tbody tr th:only-of-type {\n",
              "        vertical-align: middle;\n",
              "    }\n",
              "\n",
              "    .dataframe tbody tr th {\n",
              "        vertical-align: top;\n",
              "    }\n",
              "\n",
              "    .dataframe thead th {\n",
              "        text-align: right;\n",
              "    }\n",
              "</style>\n",
              "<table border=\"1\" class=\"dataframe\">\n",
              "  <thead>\n",
              "    <tr style=\"text-align: right;\">\n",
              "      <th></th>\n",
              "      <th>pregnancies</th>\n",
              "      <th>glucose</th>\n",
              "      <th>diastolic</th>\n",
              "      <th>triceps</th>\n",
              "      <th>insulin</th>\n",
              "      <th>bmi</th>\n",
              "      <th>dpf</th>\n",
              "      <th>age</th>\n",
              "      <th>diabetes</th>\n",
              "    </tr>\n",
              "  </thead>\n",
              "  <tbody>\n",
              "    <tr>\n",
              "      <th>count</th>\n",
              "      <td>768.000000</td>\n",
              "      <td>768.000000</td>\n",
              "      <td>768.000000</td>\n",
              "      <td>768.000000</td>\n",
              "      <td>768.000000</td>\n",
              "      <td>768.000000</td>\n",
              "      <td>768.000000</td>\n",
              "      <td>768.000000</td>\n",
              "      <td>768.000000</td>\n",
              "    </tr>\n",
              "    <tr>\n",
              "      <th>mean</th>\n",
              "      <td>3.845052</td>\n",
              "      <td>120.894531</td>\n",
              "      <td>69.105469</td>\n",
              "      <td>20.536458</td>\n",
              "      <td>79.799479</td>\n",
              "      <td>31.992578</td>\n",
              "      <td>0.471876</td>\n",
              "      <td>33.240885</td>\n",
              "      <td>0.348958</td>\n",
              "    </tr>\n",
              "    <tr>\n",
              "      <th>std</th>\n",
              "      <td>3.369578</td>\n",
              "      <td>31.972618</td>\n",
              "      <td>19.355807</td>\n",
              "      <td>15.952218</td>\n",
              "      <td>115.244002</td>\n",
              "      <td>7.884160</td>\n",
              "      <td>0.331329</td>\n",
              "      <td>11.760232</td>\n",
              "      <td>0.476951</td>\n",
              "    </tr>\n",
              "    <tr>\n",
              "      <th>min</th>\n",
              "      <td>0.000000</td>\n",
              "      <td>0.000000</td>\n",
              "      <td>0.000000</td>\n",
              "      <td>0.000000</td>\n",
              "      <td>0.000000</td>\n",
              "      <td>0.000000</td>\n",
              "      <td>0.078000</td>\n",
              "      <td>21.000000</td>\n",
              "      <td>0.000000</td>\n",
              "    </tr>\n",
              "    <tr>\n",
              "      <th>25%</th>\n",
              "      <td>1.000000</td>\n",
              "      <td>99.000000</td>\n",
              "      <td>62.000000</td>\n",
              "      <td>0.000000</td>\n",
              "      <td>0.000000</td>\n",
              "      <td>27.300000</td>\n",
              "      <td>0.243750</td>\n",
              "      <td>24.000000</td>\n",
              "      <td>0.000000</td>\n",
              "    </tr>\n",
              "    <tr>\n",
              "      <th>50%</th>\n",
              "      <td>3.000000</td>\n",
              "      <td>117.000000</td>\n",
              "      <td>72.000000</td>\n",
              "      <td>23.000000</td>\n",
              "      <td>30.500000</td>\n",
              "      <td>32.000000</td>\n",
              "      <td>0.372500</td>\n",
              "      <td>29.000000</td>\n",
              "      <td>0.000000</td>\n",
              "    </tr>\n",
              "    <tr>\n",
              "      <th>75%</th>\n",
              "      <td>6.000000</td>\n",
              "      <td>140.250000</td>\n",
              "      <td>80.000000</td>\n",
              "      <td>32.000000</td>\n",
              "      <td>127.250000</td>\n",
              "      <td>36.600000</td>\n",
              "      <td>0.626250</td>\n",
              "      <td>41.000000</td>\n",
              "      <td>1.000000</td>\n",
              "    </tr>\n",
              "    <tr>\n",
              "      <th>max</th>\n",
              "      <td>17.000000</td>\n",
              "      <td>199.000000</td>\n",
              "      <td>122.000000</td>\n",
              "      <td>99.000000</td>\n",
              "      <td>846.000000</td>\n",
              "      <td>67.100000</td>\n",
              "      <td>2.420000</td>\n",
              "      <td>81.000000</td>\n",
              "      <td>1.000000</td>\n",
              "    </tr>\n",
              "  </tbody>\n",
              "</table>\n",
              "</div>\n",
              "      <button class=\"colab-df-convert\" onclick=\"convertToInteractive('df-fa1a66cf-bf3f-4110-b571-bf38074ebd0e')\"\n",
              "              title=\"Convert this dataframe to an interactive table.\"\n",
              "              style=\"display:none;\">\n",
              "        \n",
              "  <svg xmlns=\"http://www.w3.org/2000/svg\" height=\"24px\"viewBox=\"0 0 24 24\"\n",
              "       width=\"24px\">\n",
              "    <path d=\"M0 0h24v24H0V0z\" fill=\"none\"/>\n",
              "    <path d=\"M18.56 5.44l.94 2.06.94-2.06 2.06-.94-2.06-.94-.94-2.06-.94 2.06-2.06.94zm-11 1L8.5 8.5l.94-2.06 2.06-.94-2.06-.94L8.5 2.5l-.94 2.06-2.06.94zm10 10l.94 2.06.94-2.06 2.06-.94-2.06-.94-.94-2.06-.94 2.06-2.06.94z\"/><path d=\"M17.41 7.96l-1.37-1.37c-.4-.4-.92-.59-1.43-.59-.52 0-1.04.2-1.43.59L10.3 9.45l-7.72 7.72c-.78.78-.78 2.05 0 2.83L4 21.41c.39.39.9.59 1.41.59.51 0 1.02-.2 1.41-.59l7.78-7.78 2.81-2.81c.8-.78.8-2.07 0-2.86zM5.41 20L4 18.59l7.72-7.72 1.47 1.35L5.41 20z\"/>\n",
              "  </svg>\n",
              "      </button>\n",
              "      \n",
              "  <style>\n",
              "    .colab-df-container {\n",
              "      display:flex;\n",
              "      flex-wrap:wrap;\n",
              "      gap: 12px;\n",
              "    }\n",
              "\n",
              "    .colab-df-convert {\n",
              "      background-color: #E8F0FE;\n",
              "      border: none;\n",
              "      border-radius: 50%;\n",
              "      cursor: pointer;\n",
              "      display: none;\n",
              "      fill: #1967D2;\n",
              "      height: 32px;\n",
              "      padding: 0 0 0 0;\n",
              "      width: 32px;\n",
              "    }\n",
              "\n",
              "    .colab-df-convert:hover {\n",
              "      background-color: #E2EBFA;\n",
              "      box-shadow: 0px 1px 2px rgba(60, 64, 67, 0.3), 0px 1px 3px 1px rgba(60, 64, 67, 0.15);\n",
              "      fill: #174EA6;\n",
              "    }\n",
              "\n",
              "    [theme=dark] .colab-df-convert {\n",
              "      background-color: #3B4455;\n",
              "      fill: #D2E3FC;\n",
              "    }\n",
              "\n",
              "    [theme=dark] .colab-df-convert:hover {\n",
              "      background-color: #434B5C;\n",
              "      box-shadow: 0px 1px 3px 1px rgba(0, 0, 0, 0.15);\n",
              "      filter: drop-shadow(0px 1px 2px rgba(0, 0, 0, 0.3));\n",
              "      fill: #FFFFFF;\n",
              "    }\n",
              "  </style>\n",
              "\n",
              "      <script>\n",
              "        const buttonEl =\n",
              "          document.querySelector('#df-fa1a66cf-bf3f-4110-b571-bf38074ebd0e button.colab-df-convert');\n",
              "        buttonEl.style.display =\n",
              "          google.colab.kernel.accessAllowed ? 'block' : 'none';\n",
              "\n",
              "        async function convertToInteractive(key) {\n",
              "          const element = document.querySelector('#df-fa1a66cf-bf3f-4110-b571-bf38074ebd0e');\n",
              "          const dataTable =\n",
              "            await google.colab.kernel.invokeFunction('convertToInteractive',\n",
              "                                                     [key], {});\n",
              "          if (!dataTable) return;\n",
              "\n",
              "          const docLinkHtml = 'Like what you see? Visit the ' +\n",
              "            '<a target=\"_blank\" href=https://colab.research.google.com/notebooks/data_table.ipynb>data table notebook</a>'\n",
              "            + ' to learn more about interactive tables.';\n",
              "          element.innerHTML = '';\n",
              "          dataTable['output_type'] = 'display_data';\n",
              "          await google.colab.output.renderOutput(dataTable, element);\n",
              "          const docLink = document.createElement('div');\n",
              "          docLink.innerHTML = docLinkHtml;\n",
              "          element.appendChild(docLink);\n",
              "        }\n",
              "      </script>\n",
              "    </div>\n",
              "  </div>\n",
              "  "
            ]
          },
          "metadata": {},
          "execution_count": 11
        }
      ]
    },
    {
      "cell_type": "code",
      "source": [
        "df.columns"
      ],
      "metadata": {
        "colab": {
          "base_uri": "https://localhost:8080/"
        },
        "id": "Vj9cR7FZ2dmb",
        "outputId": "68eac2cc-bd3c-4af1-ca6b-75320f5b5298"
      },
      "execution_count": null,
      "outputs": [
        {
          "output_type": "execute_result",
          "data": {
            "text/plain": [
              "Index(['pregnancies', 'glucose', 'diastolic', 'triceps', 'insulin', 'bmi',\n",
              "       'dpf', 'age', 'diabetes'],\n",
              "      dtype='object')"
            ]
          },
          "metadata": {},
          "execution_count": 12
        }
      ]
    },
    {
      "cell_type": "code",
      "source": [
        "X = df[['pregnancies', 'glucose', 'diastolic', 'triceps', 'insulin', 'bmi',\n",
        "       'dpf', 'age']]"
      ],
      "metadata": {
        "id": "E0TwVspw29Uo"
      },
      "execution_count": null,
      "outputs": []
    },
    {
      "cell_type": "code",
      "source": [
        "y = df['diabetes']"
      ],
      "metadata": {
        "id": "z0ELzB5Q3AVt"
      },
      "execution_count": null,
      "outputs": []
    },
    {
      "cell_type": "code",
      "source": [
        "from sklearn.model_selection import train_test_split"
      ],
      "metadata": {
        "id": "PvayxyPu3Dx6"
      },
      "execution_count": null,
      "outputs": []
    },
    {
      "cell_type": "code",
      "source": [
        "X_train, X_test,y_train, y_test = train_test_split(X, y, train_size = 0.7, random_state=2529)"
      ],
      "metadata": {
        "id": "CNeSA9dH3HlT"
      },
      "execution_count": null,
      "outputs": []
    },
    {
      "cell_type": "code",
      "source": [
        "X_train.shape, X_test.shape,y_train.shape, y_test.shape"
      ],
      "metadata": {
        "colab": {
          "base_uri": "https://localhost:8080/"
        },
        "id": "UngLQTnB3P-B",
        "outputId": "380f7151-63c4-4cf3-ee32-09fff5ea621c"
      },
      "execution_count": null,
      "outputs": [
        {
          "output_type": "execute_result",
          "data": {
            "text/plain": [
              "((537, 8), (231, 8), (537,), (231,))"
            ]
          },
          "metadata": {},
          "execution_count": 17
        }
      ]
    },
    {
      "cell_type": "code",
      "source": [
        "from sklearn.preprocessing import StandardScaler"
      ],
      "metadata": {
        "id": "fSXCKKEl3VuK"
      },
      "execution_count": null,
      "outputs": []
    },
    {
      "cell_type": "code",
      "source": [
        "ss = StandardScaler()"
      ],
      "metadata": {
        "id": "csoW_Z553cQj"
      },
      "execution_count": null,
      "outputs": []
    },
    {
      "cell_type": "code",
      "source": [
        "X_train = ss.fit_transform(X_train)"
      ],
      "metadata": {
        "id": "HtGTe0E43unM"
      },
      "execution_count": null,
      "outputs": []
    },
    {
      "cell_type": "code",
      "source": [
        "X_test = ss.fit_transform(X_test)"
      ],
      "metadata": {
        "id": "-CIqTOcE3xDv"
      },
      "execution_count": null,
      "outputs": []
    },
    {
      "cell_type": "code",
      "source": [
        "#from sklearn.linear_model import LogisticRegression"
      ],
      "metadata": {
        "id": "T6d5O1pW39R1"
      },
      "execution_count": null,
      "outputs": []
    },
    {
      "cell_type": "code",
      "source": [
        "#from sklearn.tree import DecisionTreeClassifier"
      ],
      "metadata": {
        "id": "-3-VMqbn7Vrs"
      },
      "execution_count": null,
      "outputs": []
    },
    {
      "cell_type": "code",
      "source": [
        "from sklearn.ensemble import RandomForestClassifier"
      ],
      "metadata": {
        "id": "LEyN0ZJi_jKC"
      },
      "execution_count": null,
      "outputs": []
    },
    {
      "cell_type": "code",
      "source": [
        "#logit = LogisticRegression()"
      ],
      "metadata": {
        "id": "10B_Grmg4EAG"
      },
      "execution_count": null,
      "outputs": []
    },
    {
      "cell_type": "code",
      "source": [
        "#model = DecisionTreeClassifier()"
      ],
      "metadata": {
        "id": "di_-9MHH7axD"
      },
      "execution_count": null,
      "outputs": []
    },
    {
      "cell_type": "code",
      "source": [
        "rf = RandomForestClassifier(n_estimators=70)"
      ],
      "metadata": {
        "id": "Qsft0k1z_rwQ"
      },
      "execution_count": null,
      "outputs": []
    },
    {
      "cell_type": "code",
      "source": [
        "#logit.fit(X_train, y_train)"
      ],
      "metadata": {
        "id": "tk-yiPDT4GIm"
      },
      "execution_count": null,
      "outputs": []
    },
    {
      "cell_type": "code",
      "source": [
        "#model.fit(X_train, y_train)"
      ],
      "metadata": {
        "id": "V-LWPJSR7df9"
      },
      "execution_count": null,
      "outputs": []
    },
    {
      "cell_type": "code",
      "source": [
        "rf.fit(X_train, y_train)"
      ],
      "metadata": {
        "colab": {
          "base_uri": "https://localhost:8080/"
        },
        "id": "JTs8yXUp_7fM",
        "outputId": "8564f621-81cc-4e97-b794-6a380bd7f5ea"
      },
      "execution_count": null,
      "outputs": [
        {
          "output_type": "execute_result",
          "data": {
            "text/plain": [
              "RandomForestClassifier(n_estimators=70)"
            ]
          },
          "metadata": {},
          "execution_count": 50
        }
      ]
    },
    {
      "cell_type": "code",
      "source": [
        "#y_pred = logit.predict(X_test)"
      ],
      "metadata": {
        "id": "ys9moe1m4Jwq"
      },
      "execution_count": null,
      "outputs": []
    },
    {
      "cell_type": "code",
      "source": [
        "#y_pred = model.predict(X_test)"
      ],
      "metadata": {
        "id": "N7j4oyY07ho2"
      },
      "execution_count": null,
      "outputs": []
    },
    {
      "cell_type": "code",
      "source": [
        "y_pred = rf.predict(X_test)"
      ],
      "metadata": {
        "id": "YyvDjRhjABAv"
      },
      "execution_count": null,
      "outputs": []
    },
    {
      "cell_type": "code",
      "source": [
        "y_pred"
      ],
      "metadata": {
        "colab": {
          "base_uri": "https://localhost:8080/"
        },
        "id": "SxkQG8AP4ONC",
        "outputId": "0b91dc3d-dd94-4507-cb76-9ab09ddc9e4b"
      },
      "execution_count": null,
      "outputs": [
        {
          "output_type": "execute_result",
          "data": {
            "text/plain": [
              "array([0, 0, 1, 0, 0, 0, 1, 1, 0, 1, 0, 1, 0, 0, 0, 1, 1, 0, 0, 0, 1, 0,\n",
              "       0, 0, 0, 0, 0, 1, 0, 0, 0, 0, 0, 0, 1, 0, 0, 0, 0, 1, 0, 0, 0, 0,\n",
              "       0, 0, 1, 0, 0, 0, 0, 1, 0, 0, 1, 0, 0, 0, 0, 1, 0, 0, 1, 1, 0, 1,\n",
              "       0, 0, 1, 0, 1, 0, 0, 0, 0, 0, 0, 0, 0, 0, 0, 0, 0, 1, 0, 0, 1, 0,\n",
              "       0, 0, 0, 0, 1, 0, 0, 0, 0, 0, 0, 0, 1, 0, 0, 1, 1, 0, 0, 1, 0, 1,\n",
              "       0, 0, 0, 1, 1, 0, 0, 0, 0, 0, 0, 1, 0, 1, 0, 0, 1, 0, 0, 0, 0, 1,\n",
              "       0, 0, 0, 1, 0, 1, 0, 1, 0, 0, 0, 1, 0, 0, 0, 0, 1, 0, 0, 0, 0, 0,\n",
              "       0, 1, 1, 0, 0, 0, 0, 0, 0, 0, 0, 0, 0, 0, 0, 0, 1, 0, 0, 1, 0, 0,\n",
              "       0, 1, 0, 0, 0, 0, 0, 1, 0, 0, 0, 0, 1, 0, 0, 0, 0, 1, 0, 0, 1, 0,\n",
              "       1, 0, 0, 0, 0, 0, 0, 0, 0, 0, 0, 0, 0, 0, 1, 1, 1, 0, 0, 0, 1, 0,\n",
              "       1, 0, 1, 1, 0, 0, 0, 0, 0, 0, 0])"
            ]
          },
          "metadata": {},
          "execution_count": 54
        }
      ]
    },
    {
      "cell_type": "code",
      "source": [
        "from sklearn.metrics import accuracy_score"
      ],
      "metadata": {
        "id": "AJm2LTqT4PNy"
      },
      "execution_count": null,
      "outputs": []
    },
    {
      "cell_type": "code",
      "source": [
        "accuracy_score(y_test, y_pred)"
      ],
      "metadata": {
        "colab": {
          "base_uri": "https://localhost:8080/"
        },
        "id": "aPhxt3s44Vyb",
        "outputId": "06b71303-d985-45d1-cbef-e5c959d32211"
      },
      "execution_count": null,
      "outputs": [
        {
          "output_type": "execute_result",
          "data": {
            "text/plain": [
              "0.7402597402597403"
            ]
          },
          "metadata": {},
          "execution_count": 56
        }
      ]
    },
    {
      "cell_type": "markdown",
      "source": [
        "# **Deep Learning**"
      ],
      "metadata": {
        "id": "5wJtHFKvMCB0"
      }
    },
    {
      "cell_type": "code",
      "source": [
        "import pandas as pd"
      ],
      "metadata": {
        "id": "XQtDkULi4YaO"
      },
      "execution_count": null,
      "outputs": []
    },
    {
      "cell_type": "code",
      "source": [
        "df = pd.read_csv('https://github.com/ybifoundation/Dataset/raw/main/Default%20Dummy%20Data.csv')"
      ],
      "metadata": {
        "id": "RHM0EFL1MFPh"
      },
      "execution_count": null,
      "outputs": []
    },
    {
      "cell_type": "code",
      "source": [
        "df.head()"
      ],
      "metadata": {
        "colab": {
          "base_uri": "https://localhost:8080/",
          "height": 206
        },
        "id": "YH-yddjlMbWd",
        "outputId": "28058950-c2f7-4d02-c66c-452fd569ae4a"
      },
      "execution_count": null,
      "outputs": [
        {
          "output_type": "execute_result",
          "data": {
            "text/plain": [
              "     X1  X2   X3  X4     X5  X6   X7  X8  default\n",
              "0  27.1  10  139  80  1.441   0    0  57        0\n",
              "1  30.1   1  189  60  0.398  23  846  59        1\n",
              "2  25.8   5  166  72  0.587  19  175  51        1\n",
              "3  30.0   7  100   0  0.484   0    0  32        1\n",
              "4  45.8   0  118  84  0.551  47  230  31        1"
            ],
            "text/html": [
              "\n",
              "  <div id=\"df-3fa732d1-bb01-4d2c-98dc-a4b89af54afe\">\n",
              "    <div class=\"colab-df-container\">\n",
              "      <div>\n",
              "<style scoped>\n",
              "    .dataframe tbody tr th:only-of-type {\n",
              "        vertical-align: middle;\n",
              "    }\n",
              "\n",
              "    .dataframe tbody tr th {\n",
              "        vertical-align: top;\n",
              "    }\n",
              "\n",
              "    .dataframe thead th {\n",
              "        text-align: right;\n",
              "    }\n",
              "</style>\n",
              "<table border=\"1\" class=\"dataframe\">\n",
              "  <thead>\n",
              "    <tr style=\"text-align: right;\">\n",
              "      <th></th>\n",
              "      <th>X1</th>\n",
              "      <th>X2</th>\n",
              "      <th>X3</th>\n",
              "      <th>X4</th>\n",
              "      <th>X5</th>\n",
              "      <th>X6</th>\n",
              "      <th>X7</th>\n",
              "      <th>X8</th>\n",
              "      <th>default</th>\n",
              "    </tr>\n",
              "  </thead>\n",
              "  <tbody>\n",
              "    <tr>\n",
              "      <th>0</th>\n",
              "      <td>27.1</td>\n",
              "      <td>10</td>\n",
              "      <td>139</td>\n",
              "      <td>80</td>\n",
              "      <td>1.441</td>\n",
              "      <td>0</td>\n",
              "      <td>0</td>\n",
              "      <td>57</td>\n",
              "      <td>0</td>\n",
              "    </tr>\n",
              "    <tr>\n",
              "      <th>1</th>\n",
              "      <td>30.1</td>\n",
              "      <td>1</td>\n",
              "      <td>189</td>\n",
              "      <td>60</td>\n",
              "      <td>0.398</td>\n",
              "      <td>23</td>\n",
              "      <td>846</td>\n",
              "      <td>59</td>\n",
              "      <td>1</td>\n",
              "    </tr>\n",
              "    <tr>\n",
              "      <th>2</th>\n",
              "      <td>25.8</td>\n",
              "      <td>5</td>\n",
              "      <td>166</td>\n",
              "      <td>72</td>\n",
              "      <td>0.587</td>\n",
              "      <td>19</td>\n",
              "      <td>175</td>\n",
              "      <td>51</td>\n",
              "      <td>1</td>\n",
              "    </tr>\n",
              "    <tr>\n",
              "      <th>3</th>\n",
              "      <td>30.0</td>\n",
              "      <td>7</td>\n",
              "      <td>100</td>\n",
              "      <td>0</td>\n",
              "      <td>0.484</td>\n",
              "      <td>0</td>\n",
              "      <td>0</td>\n",
              "      <td>32</td>\n",
              "      <td>1</td>\n",
              "    </tr>\n",
              "    <tr>\n",
              "      <th>4</th>\n",
              "      <td>45.8</td>\n",
              "      <td>0</td>\n",
              "      <td>118</td>\n",
              "      <td>84</td>\n",
              "      <td>0.551</td>\n",
              "      <td>47</td>\n",
              "      <td>230</td>\n",
              "      <td>31</td>\n",
              "      <td>1</td>\n",
              "    </tr>\n",
              "  </tbody>\n",
              "</table>\n",
              "</div>\n",
              "      <button class=\"colab-df-convert\" onclick=\"convertToInteractive('df-3fa732d1-bb01-4d2c-98dc-a4b89af54afe')\"\n",
              "              title=\"Convert this dataframe to an interactive table.\"\n",
              "              style=\"display:none;\">\n",
              "        \n",
              "  <svg xmlns=\"http://www.w3.org/2000/svg\" height=\"24px\"viewBox=\"0 0 24 24\"\n",
              "       width=\"24px\">\n",
              "    <path d=\"M0 0h24v24H0V0z\" fill=\"none\"/>\n",
              "    <path d=\"M18.56 5.44l.94 2.06.94-2.06 2.06-.94-2.06-.94-.94-2.06-.94 2.06-2.06.94zm-11 1L8.5 8.5l.94-2.06 2.06-.94-2.06-.94L8.5 2.5l-.94 2.06-2.06.94zm10 10l.94 2.06.94-2.06 2.06-.94-2.06-.94-.94-2.06-.94 2.06-2.06.94z\"/><path d=\"M17.41 7.96l-1.37-1.37c-.4-.4-.92-.59-1.43-.59-.52 0-1.04.2-1.43.59L10.3 9.45l-7.72 7.72c-.78.78-.78 2.05 0 2.83L4 21.41c.39.39.9.59 1.41.59.51 0 1.02-.2 1.41-.59l7.78-7.78 2.81-2.81c.8-.78.8-2.07 0-2.86zM5.41 20L4 18.59l7.72-7.72 1.47 1.35L5.41 20z\"/>\n",
              "  </svg>\n",
              "      </button>\n",
              "      \n",
              "  <style>\n",
              "    .colab-df-container {\n",
              "      display:flex;\n",
              "      flex-wrap:wrap;\n",
              "      gap: 12px;\n",
              "    }\n",
              "\n",
              "    .colab-df-convert {\n",
              "      background-color: #E8F0FE;\n",
              "      border: none;\n",
              "      border-radius: 50%;\n",
              "      cursor: pointer;\n",
              "      display: none;\n",
              "      fill: #1967D2;\n",
              "      height: 32px;\n",
              "      padding: 0 0 0 0;\n",
              "      width: 32px;\n",
              "    }\n",
              "\n",
              "    .colab-df-convert:hover {\n",
              "      background-color: #E2EBFA;\n",
              "      box-shadow: 0px 1px 2px rgba(60, 64, 67, 0.3), 0px 1px 3px 1px rgba(60, 64, 67, 0.15);\n",
              "      fill: #174EA6;\n",
              "    }\n",
              "\n",
              "    [theme=dark] .colab-df-convert {\n",
              "      background-color: #3B4455;\n",
              "      fill: #D2E3FC;\n",
              "    }\n",
              "\n",
              "    [theme=dark] .colab-df-convert:hover {\n",
              "      background-color: #434B5C;\n",
              "      box-shadow: 0px 1px 3px 1px rgba(0, 0, 0, 0.15);\n",
              "      filter: drop-shadow(0px 1px 2px rgba(0, 0, 0, 0.3));\n",
              "      fill: #FFFFFF;\n",
              "    }\n",
              "  </style>\n",
              "\n",
              "      <script>\n",
              "        const buttonEl =\n",
              "          document.querySelector('#df-3fa732d1-bb01-4d2c-98dc-a4b89af54afe button.colab-df-convert');\n",
              "        buttonEl.style.display =\n",
              "          google.colab.kernel.accessAllowed ? 'block' : 'none';\n",
              "\n",
              "        async function convertToInteractive(key) {\n",
              "          const element = document.querySelector('#df-3fa732d1-bb01-4d2c-98dc-a4b89af54afe');\n",
              "          const dataTable =\n",
              "            await google.colab.kernel.invokeFunction('convertToInteractive',\n",
              "                                                     [key], {});\n",
              "          if (!dataTable) return;\n",
              "\n",
              "          const docLinkHtml = 'Like what you see? Visit the ' +\n",
              "            '<a target=\"_blank\" href=https://colab.research.google.com/notebooks/data_table.ipynb>data table notebook</a>'\n",
              "            + ' to learn more about interactive tables.';\n",
              "          element.innerHTML = '';\n",
              "          dataTable['output_type'] = 'display_data';\n",
              "          await google.colab.output.renderOutput(dataTable, element);\n",
              "          const docLink = document.createElement('div');\n",
              "          docLink.innerHTML = docLinkHtml;\n",
              "          element.appendChild(docLink);\n",
              "        }\n",
              "      </script>\n",
              "    </div>\n",
              "  </div>\n",
              "  "
            ]
          },
          "metadata": {},
          "execution_count": 3
        }
      ]
    },
    {
      "cell_type": "code",
      "source": [
        "df.info()"
      ],
      "metadata": {
        "colab": {
          "base_uri": "https://localhost:8080/"
        },
        "id": "NXK40BtHMdUI",
        "outputId": "207825fb-9321-47ce-e871-5ef71ce7d90c"
      },
      "execution_count": null,
      "outputs": [
        {
          "output_type": "stream",
          "name": "stdout",
          "text": [
            "<class 'pandas.core.frame.DataFrame'>\n",
            "RangeIndex: 768 entries, 0 to 767\n",
            "Data columns (total 9 columns):\n",
            " #   Column   Non-Null Count  Dtype  \n",
            "---  ------   --------------  -----  \n",
            " 0   X1       768 non-null    float64\n",
            " 1   X2       768 non-null    int64  \n",
            " 2   X3       768 non-null    int64  \n",
            " 3   X4       768 non-null    int64  \n",
            " 4   X5       768 non-null    float64\n",
            " 5   X6       768 non-null    int64  \n",
            " 6   X7       768 non-null    int64  \n",
            " 7   X8       768 non-null    int64  \n",
            " 8   default  768 non-null    int64  \n",
            "dtypes: float64(2), int64(7)\n",
            "memory usage: 54.1 KB\n"
          ]
        }
      ]
    },
    {
      "cell_type": "code",
      "source": [
        "df.describe()"
      ],
      "metadata": {
        "colab": {
          "base_uri": "https://localhost:8080/",
          "height": 300
        },
        "id": "zqK4W2WcMva6",
        "outputId": "b9f3089d-07d2-4fdb-f188-7c614a25f36f"
      },
      "execution_count": null,
      "outputs": [
        {
          "output_type": "execute_result",
          "data": {
            "text/plain": [
              "               X1          X2          X3          X4          X5          X6  \\\n",
              "count  768.000000  768.000000  768.000000  768.000000  768.000000  768.000000   \n",
              "mean    31.992578    3.845052  120.894531   69.105469    0.471876   20.536458   \n",
              "std      7.884160    3.369578   31.972618   19.355807    0.331329   15.952218   \n",
              "min      0.000000    0.000000    0.000000    0.000000    0.078000    0.000000   \n",
              "25%     27.300000    1.000000   99.000000   62.000000    0.243750    0.000000   \n",
              "50%     32.000000    3.000000  117.000000   72.000000    0.372500   23.000000   \n",
              "75%     36.600000    6.000000  140.250000   80.000000    0.626250   32.000000   \n",
              "max     67.100000   17.000000  199.000000  122.000000    2.420000   99.000000   \n",
              "\n",
              "               X7          X8     default  \n",
              "count  768.000000  768.000000  768.000000  \n",
              "mean    79.799479   33.240885    0.348958  \n",
              "std    115.244002   11.760232    0.476951  \n",
              "min      0.000000   21.000000    0.000000  \n",
              "25%      0.000000   24.000000    0.000000  \n",
              "50%     30.500000   29.000000    0.000000  \n",
              "75%    127.250000   41.000000    1.000000  \n",
              "max    846.000000   81.000000    1.000000  "
            ],
            "text/html": [
              "\n",
              "  <div id=\"df-d6efe1cc-720a-4b32-a089-0c78296ac67a\">\n",
              "    <div class=\"colab-df-container\">\n",
              "      <div>\n",
              "<style scoped>\n",
              "    .dataframe tbody tr th:only-of-type {\n",
              "        vertical-align: middle;\n",
              "    }\n",
              "\n",
              "    .dataframe tbody tr th {\n",
              "        vertical-align: top;\n",
              "    }\n",
              "\n",
              "    .dataframe thead th {\n",
              "        text-align: right;\n",
              "    }\n",
              "</style>\n",
              "<table border=\"1\" class=\"dataframe\">\n",
              "  <thead>\n",
              "    <tr style=\"text-align: right;\">\n",
              "      <th></th>\n",
              "      <th>X1</th>\n",
              "      <th>X2</th>\n",
              "      <th>X3</th>\n",
              "      <th>X4</th>\n",
              "      <th>X5</th>\n",
              "      <th>X6</th>\n",
              "      <th>X7</th>\n",
              "      <th>X8</th>\n",
              "      <th>default</th>\n",
              "    </tr>\n",
              "  </thead>\n",
              "  <tbody>\n",
              "    <tr>\n",
              "      <th>count</th>\n",
              "      <td>768.000000</td>\n",
              "      <td>768.000000</td>\n",
              "      <td>768.000000</td>\n",
              "      <td>768.000000</td>\n",
              "      <td>768.000000</td>\n",
              "      <td>768.000000</td>\n",
              "      <td>768.000000</td>\n",
              "      <td>768.000000</td>\n",
              "      <td>768.000000</td>\n",
              "    </tr>\n",
              "    <tr>\n",
              "      <th>mean</th>\n",
              "      <td>31.992578</td>\n",
              "      <td>3.845052</td>\n",
              "      <td>120.894531</td>\n",
              "      <td>69.105469</td>\n",
              "      <td>0.471876</td>\n",
              "      <td>20.536458</td>\n",
              "      <td>79.799479</td>\n",
              "      <td>33.240885</td>\n",
              "      <td>0.348958</td>\n",
              "    </tr>\n",
              "    <tr>\n",
              "      <th>std</th>\n",
              "      <td>7.884160</td>\n",
              "      <td>3.369578</td>\n",
              "      <td>31.972618</td>\n",
              "      <td>19.355807</td>\n",
              "      <td>0.331329</td>\n",
              "      <td>15.952218</td>\n",
              "      <td>115.244002</td>\n",
              "      <td>11.760232</td>\n",
              "      <td>0.476951</td>\n",
              "    </tr>\n",
              "    <tr>\n",
              "      <th>min</th>\n",
              "      <td>0.000000</td>\n",
              "      <td>0.000000</td>\n",
              "      <td>0.000000</td>\n",
              "      <td>0.000000</td>\n",
              "      <td>0.078000</td>\n",
              "      <td>0.000000</td>\n",
              "      <td>0.000000</td>\n",
              "      <td>21.000000</td>\n",
              "      <td>0.000000</td>\n",
              "    </tr>\n",
              "    <tr>\n",
              "      <th>25%</th>\n",
              "      <td>27.300000</td>\n",
              "      <td>1.000000</td>\n",
              "      <td>99.000000</td>\n",
              "      <td>62.000000</td>\n",
              "      <td>0.243750</td>\n",
              "      <td>0.000000</td>\n",
              "      <td>0.000000</td>\n",
              "      <td>24.000000</td>\n",
              "      <td>0.000000</td>\n",
              "    </tr>\n",
              "    <tr>\n",
              "      <th>50%</th>\n",
              "      <td>32.000000</td>\n",
              "      <td>3.000000</td>\n",
              "      <td>117.000000</td>\n",
              "      <td>72.000000</td>\n",
              "      <td>0.372500</td>\n",
              "      <td>23.000000</td>\n",
              "      <td>30.500000</td>\n",
              "      <td>29.000000</td>\n",
              "      <td>0.000000</td>\n",
              "    </tr>\n",
              "    <tr>\n",
              "      <th>75%</th>\n",
              "      <td>36.600000</td>\n",
              "      <td>6.000000</td>\n",
              "      <td>140.250000</td>\n",
              "      <td>80.000000</td>\n",
              "      <td>0.626250</td>\n",
              "      <td>32.000000</td>\n",
              "      <td>127.250000</td>\n",
              "      <td>41.000000</td>\n",
              "      <td>1.000000</td>\n",
              "    </tr>\n",
              "    <tr>\n",
              "      <th>max</th>\n",
              "      <td>67.100000</td>\n",
              "      <td>17.000000</td>\n",
              "      <td>199.000000</td>\n",
              "      <td>122.000000</td>\n",
              "      <td>2.420000</td>\n",
              "      <td>99.000000</td>\n",
              "      <td>846.000000</td>\n",
              "      <td>81.000000</td>\n",
              "      <td>1.000000</td>\n",
              "    </tr>\n",
              "  </tbody>\n",
              "</table>\n",
              "</div>\n",
              "      <button class=\"colab-df-convert\" onclick=\"convertToInteractive('df-d6efe1cc-720a-4b32-a089-0c78296ac67a')\"\n",
              "              title=\"Convert this dataframe to an interactive table.\"\n",
              "              style=\"display:none;\">\n",
              "        \n",
              "  <svg xmlns=\"http://www.w3.org/2000/svg\" height=\"24px\"viewBox=\"0 0 24 24\"\n",
              "       width=\"24px\">\n",
              "    <path d=\"M0 0h24v24H0V0z\" fill=\"none\"/>\n",
              "    <path d=\"M18.56 5.44l.94 2.06.94-2.06 2.06-.94-2.06-.94-.94-2.06-.94 2.06-2.06.94zm-11 1L8.5 8.5l.94-2.06 2.06-.94-2.06-.94L8.5 2.5l-.94 2.06-2.06.94zm10 10l.94 2.06.94-2.06 2.06-.94-2.06-.94-.94-2.06-.94 2.06-2.06.94z\"/><path d=\"M17.41 7.96l-1.37-1.37c-.4-.4-.92-.59-1.43-.59-.52 0-1.04.2-1.43.59L10.3 9.45l-7.72 7.72c-.78.78-.78 2.05 0 2.83L4 21.41c.39.39.9.59 1.41.59.51 0 1.02-.2 1.41-.59l7.78-7.78 2.81-2.81c.8-.78.8-2.07 0-2.86zM5.41 20L4 18.59l7.72-7.72 1.47 1.35L5.41 20z\"/>\n",
              "  </svg>\n",
              "      </button>\n",
              "      \n",
              "  <style>\n",
              "    .colab-df-container {\n",
              "      display:flex;\n",
              "      flex-wrap:wrap;\n",
              "      gap: 12px;\n",
              "    }\n",
              "\n",
              "    .colab-df-convert {\n",
              "      background-color: #E8F0FE;\n",
              "      border: none;\n",
              "      border-radius: 50%;\n",
              "      cursor: pointer;\n",
              "      display: none;\n",
              "      fill: #1967D2;\n",
              "      height: 32px;\n",
              "      padding: 0 0 0 0;\n",
              "      width: 32px;\n",
              "    }\n",
              "\n",
              "    .colab-df-convert:hover {\n",
              "      background-color: #E2EBFA;\n",
              "      box-shadow: 0px 1px 2px rgba(60, 64, 67, 0.3), 0px 1px 3px 1px rgba(60, 64, 67, 0.15);\n",
              "      fill: #174EA6;\n",
              "    }\n",
              "\n",
              "    [theme=dark] .colab-df-convert {\n",
              "      background-color: #3B4455;\n",
              "      fill: #D2E3FC;\n",
              "    }\n",
              "\n",
              "    [theme=dark] .colab-df-convert:hover {\n",
              "      background-color: #434B5C;\n",
              "      box-shadow: 0px 1px 3px 1px rgba(0, 0, 0, 0.15);\n",
              "      filter: drop-shadow(0px 1px 2px rgba(0, 0, 0, 0.3));\n",
              "      fill: #FFFFFF;\n",
              "    }\n",
              "  </style>\n",
              "\n",
              "      <script>\n",
              "        const buttonEl =\n",
              "          document.querySelector('#df-d6efe1cc-720a-4b32-a089-0c78296ac67a button.colab-df-convert');\n",
              "        buttonEl.style.display =\n",
              "          google.colab.kernel.accessAllowed ? 'block' : 'none';\n",
              "\n",
              "        async function convertToInteractive(key) {\n",
              "          const element = document.querySelector('#df-d6efe1cc-720a-4b32-a089-0c78296ac67a');\n",
              "          const dataTable =\n",
              "            await google.colab.kernel.invokeFunction('convertToInteractive',\n",
              "                                                     [key], {});\n",
              "          if (!dataTable) return;\n",
              "\n",
              "          const docLinkHtml = 'Like what you see? Visit the ' +\n",
              "            '<a target=\"_blank\" href=https://colab.research.google.com/notebooks/data_table.ipynb>data table notebook</a>'\n",
              "            + ' to learn more about interactive tables.';\n",
              "          element.innerHTML = '';\n",
              "          dataTable['output_type'] = 'display_data';\n",
              "          await google.colab.output.renderOutput(dataTable, element);\n",
              "          const docLink = document.createElement('div');\n",
              "          docLink.innerHTML = docLinkHtml;\n",
              "          element.appendChild(docLink);\n",
              "        }\n",
              "      </script>\n",
              "    </div>\n",
              "  </div>\n",
              "  "
            ]
          },
          "metadata": {},
          "execution_count": 5
        }
      ]
    },
    {
      "cell_type": "code",
      "source": [
        "df.columns"
      ],
      "metadata": {
        "colab": {
          "base_uri": "https://localhost:8080/"
        },
        "id": "inBmTG41M32K",
        "outputId": "a0dfab0b-45a1-42b2-9171-62b150d7e710"
      },
      "execution_count": null,
      "outputs": [
        {
          "output_type": "execute_result",
          "data": {
            "text/plain": [
              "Index(['X1', 'X2', 'X3', 'X4', 'X5', 'X6', 'X7', 'X8', 'default'], dtype='object')"
            ]
          },
          "metadata": {},
          "execution_count": 6
        }
      ]
    },
    {
      "cell_type": "code",
      "source": [
        "X = df[['X1', 'X2', 'X3', 'X4', 'X5', 'X6', 'X7', 'X8']]"
      ],
      "metadata": {
        "id": "QhyW5QqiNHWB"
      },
      "execution_count": null,
      "outputs": []
    },
    {
      "cell_type": "code",
      "source": [
        "y = df['default']"
      ],
      "metadata": {
        "id": "AKpf7w6nNKRD"
      },
      "execution_count": null,
      "outputs": []
    },
    {
      "cell_type": "code",
      "source": [
        "X.shape, y.shape"
      ],
      "metadata": {
        "colab": {
          "base_uri": "https://localhost:8080/"
        },
        "id": "9kUyU9UANNRY",
        "outputId": "0211ebf9-2a1b-4dca-e8d7-a7ba27bbea74"
      },
      "execution_count": null,
      "outputs": [
        {
          "output_type": "execute_result",
          "data": {
            "text/plain": [
              "((768, 8), (768,))"
            ]
          },
          "metadata": {},
          "execution_count": 9
        }
      ]
    },
    {
      "cell_type": "code",
      "source": [
        "from sklearn.model_selection import train_test_split"
      ],
      "metadata": {
        "id": "W9VAquOCNO_i"
      },
      "execution_count": null,
      "outputs": []
    },
    {
      "cell_type": "code",
      "source": [
        "X_train, X_test, y_train, y_test = train_test_split(X,y,test_size=0.3,random_state=2529)"
      ],
      "metadata": {
        "id": "H5y04a0ANbWi"
      },
      "execution_count": null,
      "outputs": []
    },
    {
      "cell_type": "code",
      "source": [
        "X_train.shape, X_test.shape, y_train.shape, y_test.shape"
      ],
      "metadata": {
        "colab": {
          "base_uri": "https://localhost:8080/"
        },
        "id": "J6fvpwT7NkDT",
        "outputId": "64e92fe6-8a73-4261-afa1-74edd6a5ae7d"
      },
      "execution_count": null,
      "outputs": [
        {
          "output_type": "execute_result",
          "data": {
            "text/plain": [
              "((537, 8), (231, 8), (537,), (231,))"
            ]
          },
          "metadata": {},
          "execution_count": 12
        }
      ]
    },
    {
      "cell_type": "code",
      "source": [
        "from sklearn.preprocessing import StandardScaler"
      ],
      "metadata": {
        "id": "7QEmzqe3Np55"
      },
      "execution_count": null,
      "outputs": []
    },
    {
      "cell_type": "code",
      "source": [
        "ss = StandardScaler()"
      ],
      "metadata": {
        "id": "zVQV1IBuN2VE"
      },
      "execution_count": null,
      "outputs": []
    },
    {
      "cell_type": "code",
      "source": [
        "X_train = ss.fit_transform(X_train)"
      ],
      "metadata": {
        "id": "fNuqPXhnN3eR"
      },
      "execution_count": null,
      "outputs": []
    },
    {
      "cell_type": "code",
      "source": [
        "X_test = ss.fit_transform(X_test)"
      ],
      "metadata": {
        "id": "x58tDgTZN8Dz"
      },
      "execution_count": null,
      "outputs": []
    },
    {
      "cell_type": "code",
      "source": [
        "from keras.models import Sequential\n",
        "from keras.layers import Dense"
      ],
      "metadata": {
        "id": "4xn1odEuN-32"
      },
      "execution_count": null,
      "outputs": []
    },
    {
      "cell_type": "code",
      "source": [
        "model = Sequential()"
      ],
      "metadata": {
        "id": "m0bhQMIKOcvm"
      },
      "execution_count": null,
      "outputs": []
    },
    {
      "cell_type": "code",
      "source": [
        "model.add(Dense(7, input_dim=8, activation='relu'))"
      ],
      "metadata": {
        "id": "KCFBnMmPO_vV"
      },
      "execution_count": null,
      "outputs": []
    },
    {
      "cell_type": "code",
      "source": [
        "model.add(Dense(9, activation='relu'))"
      ],
      "metadata": {
        "id": "7Xn8QI08QlCG"
      },
      "execution_count": null,
      "outputs": []
    },
    {
      "cell_type": "code",
      "source": [
        "model.add(Dense(12, activation='relu'))"
      ],
      "metadata": {
        "id": "93tX6-oKQlGi"
      },
      "execution_count": null,
      "outputs": []
    },
    {
      "cell_type": "code",
      "source": [
        "model.add(Dense(1, activation='sigmoid'))"
      ],
      "metadata": {
        "id": "5zpBRNuHQlMa"
      },
      "execution_count": null,
      "outputs": []
    },
    {
      "cell_type": "code",
      "source": [
        "model.summary()"
      ],
      "metadata": {
        "colab": {
          "base_uri": "https://localhost:8080/"
        },
        "id": "-CTQasWcRq1Z",
        "outputId": "203781cd-c257-4c53-9632-da50e3263439"
      },
      "execution_count": null,
      "outputs": [
        {
          "output_type": "stream",
          "name": "stdout",
          "text": [
            "Model: \"sequential\"\n",
            "_________________________________________________________________\n",
            " Layer (type)                Output Shape              Param #   \n",
            "=================================================================\n",
            " dense (Dense)               (None, 7)                 63        \n",
            "                                                                 \n",
            " dense_1 (Dense)             (None, 9)                 72        \n",
            "                                                                 \n",
            " dense_2 (Dense)             (None, 12)                120       \n",
            "                                                                 \n",
            " dense_3 (Dense)             (None, 1)                 13        \n",
            "                                                                 \n",
            "=================================================================\n",
            "Total params: 268\n",
            "Trainable params: 268\n",
            "Non-trainable params: 0\n",
            "_________________________________________________________________\n"
          ]
        }
      ]
    },
    {
      "cell_type": "code",
      "source": [
        "model.compile(loss=\"binary_crossentropy\", optimizer=\"adam\", metrics=[\"accuracy\"])"
      ],
      "metadata": {
        "id": "nwsNJAYtRr9R"
      },
      "execution_count": null,
      "outputs": []
    },
    {
      "cell_type": "code",
      "source": [
        "model.fit(X_train,y_train, epochs=100, batch_size=50)"
      ],
      "metadata": {
        "colab": {
          "base_uri": "https://localhost:8080/"
        },
        "id": "pQLcjCJIUhP4",
        "outputId": "e967246f-161e-49a9-989c-248c082df733"
      },
      "execution_count": null,
      "outputs": [
        {
          "output_type": "stream",
          "name": "stdout",
          "text": [
            "Epoch 1/100\n",
            "6/6 [==============================] - 0s 3ms/step - loss: 0.4353 - accuracy: 0.7896\n",
            "Epoch 2/100\n",
            "6/6 [==============================] - 0s 3ms/step - loss: 0.4348 - accuracy: 0.7877\n",
            "Epoch 3/100\n",
            "6/6 [==============================] - 0s 3ms/step - loss: 0.4347 - accuracy: 0.7896\n",
            "Epoch 4/100\n",
            "6/6 [==============================] - 0s 3ms/step - loss: 0.4340 - accuracy: 0.7896\n",
            "Epoch 5/100\n",
            "6/6 [==============================] - 0s 2ms/step - loss: 0.4338 - accuracy: 0.7877\n",
            "Epoch 6/100\n",
            "6/6 [==============================] - 0s 2ms/step - loss: 0.4335 - accuracy: 0.7877\n",
            "Epoch 7/100\n",
            "6/6 [==============================] - 0s 3ms/step - loss: 0.4331 - accuracy: 0.7877\n",
            "Epoch 8/100\n",
            "6/6 [==============================] - 0s 3ms/step - loss: 0.4328 - accuracy: 0.7877\n",
            "Epoch 9/100\n",
            "6/6 [==============================] - 0s 3ms/step - loss: 0.4325 - accuracy: 0.7896\n",
            "Epoch 10/100\n",
            "6/6 [==============================] - 0s 3ms/step - loss: 0.4320 - accuracy: 0.7896\n",
            "Epoch 11/100\n",
            "6/6 [==============================] - 0s 3ms/step - loss: 0.4319 - accuracy: 0.7896\n",
            "Epoch 12/100\n",
            "6/6 [==============================] - 0s 3ms/step - loss: 0.4318 - accuracy: 0.7914\n",
            "Epoch 13/100\n",
            "6/6 [==============================] - 0s 3ms/step - loss: 0.4313 - accuracy: 0.7933\n",
            "Epoch 14/100\n",
            "6/6 [==============================] - 0s 3ms/step - loss: 0.4309 - accuracy: 0.7933\n",
            "Epoch 15/100\n",
            "6/6 [==============================] - 0s 3ms/step - loss: 0.4309 - accuracy: 0.7933\n",
            "Epoch 16/100\n",
            "6/6 [==============================] - 0s 3ms/step - loss: 0.4304 - accuracy: 0.7933\n",
            "Epoch 17/100\n",
            "6/6 [==============================] - 0s 3ms/step - loss: 0.4303 - accuracy: 0.7914\n",
            "Epoch 18/100\n",
            "6/6 [==============================] - 0s 3ms/step - loss: 0.4299 - accuracy: 0.7933\n",
            "Epoch 19/100\n",
            "6/6 [==============================] - 0s 4ms/step - loss: 0.4297 - accuracy: 0.7933\n",
            "Epoch 20/100\n",
            "6/6 [==============================] - 0s 4ms/step - loss: 0.4295 - accuracy: 0.7933\n",
            "Epoch 21/100\n",
            "6/6 [==============================] - 0s 3ms/step - loss: 0.4294 - accuracy: 0.7933\n",
            "Epoch 22/100\n",
            "6/6 [==============================] - 0s 3ms/step - loss: 0.4291 - accuracy: 0.7914\n",
            "Epoch 23/100\n",
            "6/6 [==============================] - 0s 3ms/step - loss: 0.4287 - accuracy: 0.7896\n",
            "Epoch 24/100\n",
            "6/6 [==============================] - 0s 3ms/step - loss: 0.4287 - accuracy: 0.7914\n",
            "Epoch 25/100\n",
            "6/6 [==============================] - 0s 3ms/step - loss: 0.4282 - accuracy: 0.7933\n",
            "Epoch 26/100\n",
            "6/6 [==============================] - 0s 2ms/step - loss: 0.4278 - accuracy: 0.7952\n",
            "Epoch 27/100\n",
            "6/6 [==============================] - 0s 4ms/step - loss: 0.4278 - accuracy: 0.7952\n",
            "Epoch 28/100\n",
            "6/6 [==============================] - 0s 3ms/step - loss: 0.4274 - accuracy: 0.7952\n",
            "Epoch 29/100\n",
            "6/6 [==============================] - 0s 3ms/step - loss: 0.4271 - accuracy: 0.7970\n",
            "Epoch 30/100\n",
            "6/6 [==============================] - 0s 3ms/step - loss: 0.4268 - accuracy: 0.7989\n",
            "Epoch 31/100\n",
            "6/6 [==============================] - 0s 3ms/step - loss: 0.4265 - accuracy: 0.7989\n",
            "Epoch 32/100\n",
            "6/6 [==============================] - 0s 3ms/step - loss: 0.4263 - accuracy: 0.8007\n",
            "Epoch 33/100\n",
            "6/6 [==============================] - 0s 3ms/step - loss: 0.4260 - accuracy: 0.8026\n",
            "Epoch 34/100\n",
            "6/6 [==============================] - 0s 3ms/step - loss: 0.4260 - accuracy: 0.8045\n",
            "Epoch 35/100\n",
            "6/6 [==============================] - 0s 3ms/step - loss: 0.4255 - accuracy: 0.8026\n",
            "Epoch 36/100\n",
            "6/6 [==============================] - 0s 4ms/step - loss: 0.4253 - accuracy: 0.7989\n",
            "Epoch 37/100\n",
            "6/6 [==============================] - 0s 4ms/step - loss: 0.4258 - accuracy: 0.7952\n",
            "Epoch 38/100\n",
            "6/6 [==============================] - 0s 3ms/step - loss: 0.4250 - accuracy: 0.7989\n",
            "Epoch 39/100\n",
            "6/6 [==============================] - 0s 3ms/step - loss: 0.4248 - accuracy: 0.7970\n",
            "Epoch 40/100\n",
            "6/6 [==============================] - 0s 3ms/step - loss: 0.4245 - accuracy: 0.7989\n",
            "Epoch 41/100\n",
            "6/6 [==============================] - 0s 3ms/step - loss: 0.4240 - accuracy: 0.8007\n",
            "Epoch 42/100\n",
            "6/6 [==============================] - 0s 4ms/step - loss: 0.4237 - accuracy: 0.7970\n",
            "Epoch 43/100\n",
            "6/6 [==============================] - 0s 3ms/step - loss: 0.4234 - accuracy: 0.7989\n",
            "Epoch 44/100\n",
            "6/6 [==============================] - 0s 3ms/step - loss: 0.4232 - accuracy: 0.8007\n",
            "Epoch 45/100\n",
            "6/6 [==============================] - 0s 3ms/step - loss: 0.4231 - accuracy: 0.8026\n",
            "Epoch 46/100\n",
            "6/6 [==============================] - 0s 3ms/step - loss: 0.4227 - accuracy: 0.8026\n",
            "Epoch 47/100\n",
            "6/6 [==============================] - 0s 3ms/step - loss: 0.4226 - accuracy: 0.7933\n",
            "Epoch 48/100\n",
            "6/6 [==============================] - 0s 3ms/step - loss: 0.4225 - accuracy: 0.7933\n",
            "Epoch 49/100\n",
            "6/6 [==============================] - 0s 3ms/step - loss: 0.4218 - accuracy: 0.7989\n",
            "Epoch 50/100\n",
            "6/6 [==============================] - 0s 3ms/step - loss: 0.4219 - accuracy: 0.8007\n",
            "Epoch 51/100\n",
            "6/6 [==============================] - 0s 3ms/step - loss: 0.4214 - accuracy: 0.7989\n",
            "Epoch 52/100\n",
            "6/6 [==============================] - 0s 3ms/step - loss: 0.4214 - accuracy: 0.7970\n",
            "Epoch 53/100\n",
            "6/6 [==============================] - 0s 5ms/step - loss: 0.4212 - accuracy: 0.7989\n",
            "Epoch 54/100\n",
            "6/6 [==============================] - 0s 3ms/step - loss: 0.4211 - accuracy: 0.7970\n",
            "Epoch 55/100\n",
            "6/6 [==============================] - 0s 4ms/step - loss: 0.4207 - accuracy: 0.8007\n",
            "Epoch 56/100\n",
            "6/6 [==============================] - 0s 5ms/step - loss: 0.4206 - accuracy: 0.8007\n",
            "Epoch 57/100\n",
            "6/6 [==============================] - 0s 3ms/step - loss: 0.4205 - accuracy: 0.8026\n",
            "Epoch 58/100\n",
            "6/6 [==============================] - 0s 4ms/step - loss: 0.4200 - accuracy: 0.8007\n",
            "Epoch 59/100\n",
            "6/6 [==============================] - 0s 3ms/step - loss: 0.4198 - accuracy: 0.8007\n",
            "Epoch 60/100\n",
            "6/6 [==============================] - 0s 3ms/step - loss: 0.4195 - accuracy: 0.8007\n",
            "Epoch 61/100\n",
            "6/6 [==============================] - 0s 3ms/step - loss: 0.4195 - accuracy: 0.7989\n",
            "Epoch 62/100\n",
            "6/6 [==============================] - 0s 3ms/step - loss: 0.4191 - accuracy: 0.8007\n",
            "Epoch 63/100\n",
            "6/6 [==============================] - 0s 3ms/step - loss: 0.4190 - accuracy: 0.7989\n",
            "Epoch 64/100\n",
            "6/6 [==============================] - 0s 3ms/step - loss: 0.4187 - accuracy: 0.7989\n",
            "Epoch 65/100\n",
            "6/6 [==============================] - 0s 3ms/step - loss: 0.4189 - accuracy: 0.7989\n",
            "Epoch 66/100\n",
            "6/6 [==============================] - 0s 3ms/step - loss: 0.4182 - accuracy: 0.8026\n",
            "Epoch 67/100\n",
            "6/6 [==============================] - 0s 3ms/step - loss: 0.4179 - accuracy: 0.8007\n",
            "Epoch 68/100\n",
            "6/6 [==============================] - 0s 4ms/step - loss: 0.4184 - accuracy: 0.7989\n",
            "Epoch 69/100\n",
            "6/6 [==============================] - 0s 4ms/step - loss: 0.4179 - accuracy: 0.7989\n",
            "Epoch 70/100\n",
            "6/6 [==============================] - 0s 4ms/step - loss: 0.4178 - accuracy: 0.8007\n",
            "Epoch 71/100\n",
            "6/6 [==============================] - 0s 3ms/step - loss: 0.4170 - accuracy: 0.8063\n",
            "Epoch 72/100\n",
            "6/6 [==============================] - 0s 3ms/step - loss: 0.4170 - accuracy: 0.8063\n",
            "Epoch 73/100\n",
            "6/6 [==============================] - 0s 3ms/step - loss: 0.4168 - accuracy: 0.8063\n",
            "Epoch 74/100\n",
            "6/6 [==============================] - 0s 3ms/step - loss: 0.4164 - accuracy: 0.8063\n",
            "Epoch 75/100\n",
            "6/6 [==============================] - 0s 3ms/step - loss: 0.4163 - accuracy: 0.8063\n",
            "Epoch 76/100\n",
            "6/6 [==============================] - 0s 4ms/step - loss: 0.4161 - accuracy: 0.8045\n",
            "Epoch 77/100\n",
            "6/6 [==============================] - 0s 3ms/step - loss: 0.4157 - accuracy: 0.8045\n",
            "Epoch 78/100\n",
            "6/6 [==============================] - 0s 3ms/step - loss: 0.4155 - accuracy: 0.8045\n",
            "Epoch 79/100\n",
            "6/6 [==============================] - 0s 3ms/step - loss: 0.4153 - accuracy: 0.8063\n",
            "Epoch 80/100\n",
            "6/6 [==============================] - 0s 4ms/step - loss: 0.4151 - accuracy: 0.8101\n",
            "Epoch 81/100\n",
            "6/6 [==============================] - 0s 3ms/step - loss: 0.4148 - accuracy: 0.8119\n",
            "Epoch 82/100\n",
            "6/6 [==============================] - 0s 3ms/step - loss: 0.4147 - accuracy: 0.8101\n",
            "Epoch 83/100\n",
            "6/6 [==============================] - 0s 3ms/step - loss: 0.4145 - accuracy: 0.8101\n",
            "Epoch 84/100\n",
            "6/6 [==============================] - 0s 3ms/step - loss: 0.4144 - accuracy: 0.8082\n",
            "Epoch 85/100\n",
            "6/6 [==============================] - 0s 3ms/step - loss: 0.4143 - accuracy: 0.8101\n",
            "Epoch 86/100\n",
            "6/6 [==============================] - 0s 3ms/step - loss: 0.4138 - accuracy: 0.8063\n",
            "Epoch 87/100\n",
            "6/6 [==============================] - 0s 3ms/step - loss: 0.4139 - accuracy: 0.8082\n",
            "Epoch 88/100\n",
            "6/6 [==============================] - 0s 4ms/step - loss: 0.4135 - accuracy: 0.8082\n",
            "Epoch 89/100\n",
            "6/6 [==============================] - 0s 3ms/step - loss: 0.4131 - accuracy: 0.8063\n",
            "Epoch 90/100\n",
            "6/6 [==============================] - 0s 3ms/step - loss: 0.4131 - accuracy: 0.8045\n",
            "Epoch 91/100\n",
            "6/6 [==============================] - 0s 3ms/step - loss: 0.4126 - accuracy: 0.8063\n",
            "Epoch 92/100\n",
            "6/6 [==============================] - 0s 5ms/step - loss: 0.4126 - accuracy: 0.8082\n",
            "Epoch 93/100\n",
            "6/6 [==============================] - 0s 4ms/step - loss: 0.4125 - accuracy: 0.8063\n",
            "Epoch 94/100\n",
            "6/6 [==============================] - 0s 4ms/step - loss: 0.4122 - accuracy: 0.8063\n",
            "Epoch 95/100\n",
            "6/6 [==============================] - 0s 3ms/step - loss: 0.4123 - accuracy: 0.8082\n",
            "Epoch 96/100\n",
            "6/6 [==============================] - 0s 3ms/step - loss: 0.4119 - accuracy: 0.8082\n",
            "Epoch 97/100\n",
            "6/6 [==============================] - 0s 3ms/step - loss: 0.4114 - accuracy: 0.8101\n",
            "Epoch 98/100\n",
            "6/6 [==============================] - 0s 4ms/step - loss: 0.4113 - accuracy: 0.8063\n",
            "Epoch 99/100\n",
            "6/6 [==============================] - 0s 3ms/step - loss: 0.4109 - accuracy: 0.8082\n",
            "Epoch 100/100\n",
            "6/6 [==============================] - 0s 3ms/step - loss: 0.4106 - accuracy: 0.8063\n"
          ]
        },
        {
          "output_type": "execute_result",
          "data": {
            "text/plain": [
              "<keras.callbacks.History at 0x7f7ed4f20610>"
            ]
          },
          "metadata": {},
          "execution_count": 26
        }
      ]
    },
    {
      "cell_type": "code",
      "source": [
        "y_pred = model.predict(X_test)"
      ],
      "metadata": {
        "id": "p7fqcgvAVIis"
      },
      "execution_count": null,
      "outputs": []
    },
    {
      "cell_type": "code",
      "source": [
        "y_pred"
      ],
      "metadata": {
        "id": "Zg4X56CfVL4N"
      },
      "execution_count": null,
      "outputs": []
    },
    {
      "cell_type": "code",
      "source": [
        "import numpy as np"
      ],
      "metadata": {
        "id": "Kla5-J6wVNRx"
      },
      "execution_count": null,
      "outputs": []
    },
    {
      "cell_type": "code",
      "source": [
        "y_pred = y_pred.round()"
      ],
      "metadata": {
        "id": "9D2h240FVd3Q"
      },
      "execution_count": null,
      "outputs": []
    },
    {
      "cell_type": "code",
      "source": [
        "from sklearn.metrics import classification_report,confusion_matrix"
      ],
      "metadata": {
        "id": "NsRTSUuaVgcG"
      },
      "execution_count": null,
      "outputs": []
    },
    {
      "cell_type": "code",
      "source": [
        "confusion_matrix(y_test, y_pred)"
      ],
      "metadata": {
        "colab": {
          "base_uri": "https://localhost:8080/"
        },
        "id": "z64LKE-6VqnD",
        "outputId": "d17b0d09-b305-4546-e2e5-18c0768f7541"
      },
      "execution_count": null,
      "outputs": [
        {
          "output_type": "execute_result",
          "data": {
            "text/plain": [
              "array([[122,  23],\n",
              "       [ 39,  47]])"
            ]
          },
          "metadata": {},
          "execution_count": 33
        }
      ]
    },
    {
      "cell_type": "code",
      "source": [
        "print(classification_report(y_test,y_pred))"
      ],
      "metadata": {
        "colab": {
          "base_uri": "https://localhost:8080/"
        },
        "id": "gcUb5V7WVtZF",
        "outputId": "9fe2edf0-0f0d-4d3d-8863-d0ad6c18fe94"
      },
      "execution_count": null,
      "outputs": [
        {
          "output_type": "stream",
          "name": "stdout",
          "text": [
            "              precision    recall  f1-score   support\n",
            "\n",
            "           0       0.76      0.84      0.80       145\n",
            "           1       0.67      0.55      0.60        86\n",
            "\n",
            "    accuracy                           0.73       231\n",
            "   macro avg       0.71      0.69      0.70       231\n",
            "weighted avg       0.73      0.73      0.72       231\n",
            "\n"
          ]
        }
      ]
    },
    {
      "cell_type": "code",
      "source": [
        ""
      ],
      "metadata": {
        "id": "GOH-oB6xVwLC"
      },
      "execution_count": null,
      "outputs": []
    }
  ]
}